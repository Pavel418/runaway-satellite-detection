{
 "cells": [
  {
   "cell_type": "code",
   "execution_count": 1,
   "metadata": {},
   "outputs": [],
   "source": [
    "from ultralytics import Explorer"
   ]
  },
  {
   "cell_type": "code",
   "execution_count": 2,
   "metadata": {},
   "outputs": [
    {
     "name": "stdout",
     "output_type": "stream",
     "text": [
      "Table data.yaml_yolo11n.pt already exists. Reusing it. Pass force=True to overwrite it.\n"
     ]
    }
   ],
   "source": [
    "exp = Explorer(data=\"./datasets/yolo-14/data.yaml\", model=\"yolo11n.pt\")\n",
    "exp.create_embeddings_table()"
   ]
  },
  {
   "cell_type": "code",
   "execution_count": 4,
   "metadata": {},
   "outputs": [
    {
     "name": "stdout",
     "output_type": "stream",
     "text": [
      "Similarity matrix already exists. Reusing it. Pass force=True to overwrite it.\n"
     ]
    }
   ],
   "source": [
    "sim_idx = exp.similarity_index()"
   ]
  },
  {
   "cell_type": "code",
   "execution_count": null,
   "metadata": {},
   "outputs": [],
   "source": [
    "import matplotlib.pyplot as plt\n",
    "from sklearn.decomposition import PCA\n",
    "\n",
    "# Reduce dimensions using PCA to 3 components for visualization in 3D\n",
    "pca = PCA(n_components=3)\n",
    "table = exp.table\n",
    "\n",
    "embeddings = table.to_pandas()[\"vector\"]\n",
    "reduced_data = pca.fit_transform(embeddings.values.reshape(-1, 1))\n",
    "\n",
    "# Create a 3D scatter plot using Matplotlib Axes3D\n",
    "fig = plt.figure(figsize=(8, 6))\n",
    "ax = fig.add_subplot(111, projection=\"3d\")\n",
    "\n",
    "# Scatter plot\n",
    "ax.scatter(reduced_data[:, 0], reduced_data[:, 1], reduced_data[:, 2], alpha=0.5)\n",
    "ax.set_title(\"3D Scatter Plot of Reduced 256-Dimensional Data (PCA)\")\n",
    "ax.set_xlabel(\"Component 1\")\n",
    "ax.set_ylabel(\"Component 2\")\n",
    "ax.set_zlabel(\"Component 3\")\n",
    "\n",
    "plt.show()"
   ]
  }
 ],
 "metadata": {
  "kernelspec": {
   "display_name": "Python 3 (ipykernel)",
   "language": "python",
   "name": "python3"
  },
  "language_info": {
   "codemirror_mode": {
    "name": "ipython",
    "version": 3
   },
   "file_extension": ".py",
   "mimetype": "text/x-python",
   "name": "python",
   "nbconvert_exporter": "python",
   "pygments_lexer": "ipython3",
   "version": "3.9.7"
  }
 },
 "nbformat": 4,
 "nbformat_minor": 2
}
