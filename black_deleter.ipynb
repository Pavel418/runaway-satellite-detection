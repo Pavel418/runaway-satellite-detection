{
 "cells": [
  {
   "cell_type": "code",
   "execution_count": 7,
   "metadata": {},
   "outputs": [],
   "source": [
    "from PIL import Image\n",
    "import numpy as np\n",
    "import os\n",
    "import shutil"
   ]
  },
  {
   "cell_type": "code",
   "execution_count": 8,
   "metadata": {},
   "outputs": [],
   "source": [
    "base_dir = r'C:\\Users\\Pavel\\Documents\\GitHub\\runaway-satellite-detection\\multiple_roads'"
   ]
  },
  {
   "cell_type": "code",
   "execution_count": 10,
   "metadata": {},
   "outputs": [],
   "source": [
    "for sub_dir_name in os.listdir(base_dir):\n",
    "    sub_dir = os.path.join(base_dir, sub_dir_name)\n",
    "    for sub_sub_dir in os.listdir(sub_dir):\n",
    "        sub_sub_dir_path = os.path.join(sub_dir, sub_sub_dir)\n",
    "        \n",
    "        # Get the PNG file\n",
    "        png_file = [f for f in os.listdir(sub_sub_dir_path) if f.endswith('.png')][0]\n",
    "        png_path = os.path.join(sub_sub_dir_path, png_file)\n",
    "        with Image.open(png_path) as img:\n",
    "            img_array = np.array(img)\n",
    "            if np.all(img_array == 0):\n",
    "                shutil.rmtree(sub_sub_dir_path)"
   ]
  }
 ],
 "metadata": {
  "kernelspec": {
   "display_name": ".venv",
   "language": "python",
   "name": "python3"
  },
  "language_info": {
   "codemirror_mode": {
    "name": "ipython",
    "version": 3
   },
   "file_extension": ".py",
   "mimetype": "text/x-python",
   "name": "python",
   "nbconvert_exporter": "python",
   "pygments_lexer": "ipython3",
   "version": "3.10.7"
  }
 },
 "nbformat": 4,
 "nbformat_minor": 2
}
