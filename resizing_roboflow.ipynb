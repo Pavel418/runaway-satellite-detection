{
 "cells": [
  {
   "cell_type": "code",
   "execution_count": 1,
   "metadata": {},
   "outputs": [],
   "source": [
    "from PIL import Image\n",
    "import os\n",
    "import random\n",
    "import matplotlib.pyplot as plt\n",
    "import math"
   ]
  },
  {
   "cell_type": "code",
   "execution_count": 2,
   "metadata": {},
   "outputs": [],
   "source": [
    "base_path = \"./runaway-seg-11\"\n",
    "destination = \"./cropped_roboflow2\"\n",
    "crop_size = 200\n",
    "train = 0.7\n",
    "val = 0.15\n",
    "test = 0.15"
   ]
  },
  {
   "cell_type": "code",
   "execution_count": 3,
   "metadata": {},
   "outputs": [],
   "source": [
    "image_paths = []\n",
    "for root, dirs, files in os.walk(base_path):\n",
    "    for file in files:\n",
    "        if file.endswith(\".jpg\"):\n",
    "            image_paths.append(os.path.join(root, file))"
   ]
  },
  {
   "cell_type": "code",
   "execution_count": 4,
   "metadata": {},
   "outputs": [],
   "source": [
    "mask_paths = []\n",
    "for root, dirs, files in os.walk(base_path):\n",
    "    for file in files:\n",
    "        if file.endswith(\".txt\"):\n",
    "            mask_paths.append(os.path.join(root, file))"
   ]
  },
  {
   "cell_type": "code",
   "execution_count": 5,
   "metadata": {},
   "outputs": [
    {
     "name": "stdout",
     "output_type": "stream",
     "text": [
      "Invalid crop for image ./runaway-seg-11/valid/images/104_2022-11-12_2022-12-22_png_jpg.rf.250d12cd0dcb07f0e1a4bca259b1a0ae.jpg\n",
      "Invalid crop for image ./runaway-seg-11/valid/images/104_2021-10-10_2021-11-19_png_jpg.rf.0e9a8ff6274a36d72df2a6e76d6240e9.jpg\n",
      "Invalid crop for image ./runaway-seg-11/valid/images/104_2022-02-07_2022-03-19_png_jpg.rf.1c6c50d1780acb07a5158da6fdf74812.jpg\n",
      "Invalid crop for image ./runaway-seg-11/valid/images/104_2022-07-16_2022-08-25_png_jpg.rf.a01a2367a415618e0f05fe0acdf435ee.jpg\n",
      "Invalid crop for image ./runaway-seg-11/valid/images/104_2022-06-06_2022-07-16_png_jpg.rf.ecaa5d15948988885490e59ddce763e5.jpg\n"
     ]
    }
   ],
   "source": [
    "crops = []\n",
    "for image_path in image_paths:\n",
    "    image = Image.open(image_path)\n",
    "    width, height = image.size\n",
    "    mask_path = os.path.join(base_path, image_path.split(\"/\")[2], \"labels\", os.path.basename(image_path).replace(\".jpg\", \".txt\"))\n",
    "   # mask_path = os.path.join(base_path, \"labels\", os.path.basename(image_path).replace(\".jpg\", \".txt\"))\n",
    "    with open(mask_path, \"r\") as f:\n",
    "        line = f.readlines()[0]\n",
    "        coordinates = line.split(\" \")[1:]\n",
    "        relative_x = [float(x) * width for x in coordinates[::2]]\n",
    "        relative_y = [float(y) * height for y in coordinates[1::2]]\n",
    "\n",
    "        x_min = min(relative_x)\n",
    "        x_max = max(relative_x)\n",
    "        y_min = min(relative_y)\n",
    "        y_max = max(relative_y)\n",
    "\n",
    "        x_min_valid = max(0, x_max - crop_size)\n",
    "        x_max_valid = min(width - crop_size, x_min)\n",
    "        y_min_valid = max(0, y_max - crop_size)\n",
    "        y_max_valid = min(height - crop_size, y_min)\n",
    "\n",
    "        if x_min_valid >= x_max_valid or y_min_valid >= y_max_valid:\n",
    "            print(\"Invalid crop for image \" + image_path)\n",
    "            continue\n",
    "\n",
    "        crop_x = random.randint(math.ceil(x_min_valid), math.floor(x_max_valid))\n",
    "        crop_y = random.randint(math.ceil(y_min_valid), math.floor(y_max_valid))\n",
    "\n",
    "        crop = image.crop((crop_x, crop_y, crop_x + crop_size, crop_y + crop_size))\n",
    "        \n",
    "        relative_x = [(x - crop_x) for x in relative_x]\n",
    "        relative_y = [(y - crop_y) for y in relative_y]\n",
    "        \n",
    "        string = '0 '\n",
    "        for x, y in zip(relative_x, relative_y):\n",
    "            string += str(x / crop_size) + ' ' + str(y / crop_size) + ' '\n",
    "        crops.append((crop, string))\n",
    "        # plt.imshow(crop)\n",
    "\n",
    "        # for x, y in zip(relative_x, relative_y):\n",
    "        #     plt.plot(x, y, 'ro')\n",
    "        # plt.show()"
   ]
  },
  {
   "cell_type": "code",
   "execution_count": null,
   "metadata": {},
   "outputs": [],
   "source": [
    "train_size = int(len(crops) * train)\n",
    "val_size = int(len(crops) * val)\n",
    "test_size = int(len(crops) * test)"
   ]
  },
  {
   "cell_type": "code",
   "execution_count": null,
   "metadata": {},
   "outputs": [],
   "source": [
    "train_crops = random.sample(crops, train_size)\n",
    "val_crops = random.sample([x for x in crops if x not in train_crops], val_size)\n",
    "test_crops = [x for x in crops if x not in train_crops and x not in val_crops]"
   ]
  },
  {
   "cell_type": "code",
   "execution_count": null,
   "metadata": {},
   "outputs": [],
   "source": [
    "print(len(image_paths))\n",
    "print(len(crops))\n",
    "print(len(train_crops))\n",
    "print(len(val_crops))\n",
    "print(len(test_crops))"
   ]
  },
  {
   "cell_type": "code",
   "execution_count": null,
   "metadata": {},
   "outputs": [],
   "source": [
    "folder = \"train\"\n",
    "os.makedirs(os.path.join(destination, folder, \"images\"), exist_ok=True)\n",
    "os.makedirs(os.path.join(destination, folder, \"labels\"), exist_ok=True)\n",
    "for image, data in train_crops:\n",
    "    name = str(random.randint(0, 1000000))\n",
    "    image.save(os.path.join(destination, folder, \"images\", name + \".jpg\"))\n",
    "    with open(os.path.join(destination, folder, \"labels\", name + \".txt\"), \"w\") as f:\n",
    "        f.write(data)"
   ]
  },
  {
   "cell_type": "code",
   "execution_count": 6,
   "metadata": {},
   "outputs": [],
   "source": [
    "folder = \"test\"\n",
    "os.makedirs(os.path.join(destination, folder, \"images\"), exist_ok=True)\n",
    "os.makedirs(os.path.join(destination, folder, \"labels\"), exist_ok=True)\n",
    "for image, data in test_crops:\n",
    "    name = str(random.randint(0, 1000000))\n",
    "    image.save(os.path.join(destination, folder, \"images\", name + \".jpg\"))\n",
    "    with open(os.path.join(destination, folder, \"labels\", name + \".txt\"), \"w\") as f:\n",
    "        f.write(data)"
   ]
  },
  {
   "cell_type": "code",
   "execution_count": 6,
   "metadata": {},
   "outputs": [],
   "source": [
    "folder = \"valid\"\n",
    "os.makedirs(os.path.join(destination, folder, \"images\"), exist_ok=True)\n",
    "os.makedirs(os.path.join(destination, folder, \"labels\"), exist_ok=True)\n",
    "for image, data in val_crops:\n",
    "    name = str(random.randint(0, 1000000))\n",
    "    image.save(os.path.join(destination, folder, \"images\", name + \".jpg\"))\n",
    "    with open(os.path.join(destination, folder, \"labels\", name + \".txt\"), \"w\") as f:\n",
    "        f.write(data)"
   ]
  }
 ],
 "metadata": {
  "kernelspec": {
   "display_name": "Python 3 (ipykernel)",
   "language": "python",
   "name": "python3"
  },
  "language_info": {
   "codemirror_mode": {
    "name": "ipython",
    "version": 3
   },
   "file_extension": ".py",
   "mimetype": "text/x-python",
   "name": "python",
   "nbconvert_exporter": "python",
   "pygments_lexer": "ipython3",
   "version": "3.9.7"
  }
 },
 "nbformat": 4,
 "nbformat_minor": 2
}
