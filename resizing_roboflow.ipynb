{
 "cells": [
  {
   "cell_type": "code",
   "execution_count": null,
   "metadata": {},
   "outputs": [],
   "source": [
    "from PIL import Image\n",
    "import os\n",
    "import random\n",
    "import math\n",
    "import numpy as np\n",
    "import imgaug as ia\n",
    "import imgaug.augmenters as iaa\n",
    "from imgaug.augmentables import Keypoint, KeypointsOnImage"
   ]
  },
  {
   "cell_type": "code",
   "execution_count": null,
   "metadata": {},
   "outputs": [],
   "source": [
    "base_path = \"./roboflow_datasets/cats-13/train\"\n",
    "destination = \"./cropped_roboflow4-224\"\n",
    "crop_size = 224\n",
    "train = 0.7\n",
    "val = 0.15\n",
    "test = 0.15"
   ]
  },
  {
   "cell_type": "code",
   "execution_count": null,
   "metadata": {},
   "outputs": [],
   "source": [
    "seq = iaa.Sequential([\n",
    "    iaa.Fliplr(0.5),  # Horizontal flip with 50% probability\n",
    "    iaa.Flipud(0.5),  # Vertical flip with 50% probability\n",
    "    iaa.OneOf([  # Either contrast normalization or color augmentation\n",
    "        iaa.ContrastNormalization((0.75, 1.25)),\n",
    "        iaa.Multiply((0.8, 1.2)),\n",
    "        iaa.Grayscale(alpha=(0.0, 0.1))\n",
    "    ]),\n",
    "    iaa.OneOf([  # Either blur or noise transformation\n",
    "        iaa.GaussianBlur(sigma=(0.0, 1)),\n",
    "        iaa.AverageBlur(k=(2, 3)),\n",
    "        iaa.MedianBlur(k=(3)),\n",
    "        iaa.BilateralBlur(d=(3, 5), sigma_color=(10, 50), sigma_space=(10, 50)),\n",
    "        iaa.AdditiveGaussianNoise(scale=(0.0, 0.01 * 255)),\n",
    "        iaa.ElasticTransformation(alpha=2, sigma=1)\n",
    "    ])\n",
    "])\n",
    "\n",
    "rotate = iaa.Affine(rotate=(-45, 45))"
   ]
  },
  {
   "cell_type": "code",
   "execution_count": null,
   "metadata": {},
   "outputs": [],
   "source": [
    "def get_keypoints_from_line(line, height, width):\n",
    "    data = line.strip().split()\n",
    "    \n",
    "    coords = list(map(float, data[1:]))\n",
    "    \n",
    "    points = [(coords[i], coords[i+1]) for i in range(0, len(coords), 2)]\n",
    "    \n",
    "    keypoints = [Keypoint(x=x*width, y=y*height) for x, y in points]\n",
    "\n",
    "    return keypoints\n",
    "def augment_image_and_keypoints(image, line, sequence):\n",
    "    image_np = np.array(image, dtype=np.uint8)\n",
    "\n",
    "    height, width = image_np.shape[:2]\n",
    "    keypointsOnImage = KeypointsOnImage(get_keypoints_from_line(line, height, width), shape=image_np.shape)\n",
    "    \n",
    "    image_aug_np, keypoints_aug = sequence(image=image_np, keypoints=keypointsOnImage)\n",
    "    \n",
    "    image_aug_pil = Image.fromarray(image_aug_np)\n",
    "    \n",
    "    return image_aug_pil, keypoints_aug"
   ]
  },
  {
   "cell_type": "code",
   "execution_count": null,
   "metadata": {},
   "outputs": [],
   "source": [
    "image_paths = []\n",
    "for root, dirs, files in os.walk(base_path):\n",
    "    for file in files:\n",
    "        if file.endswith(\".jpg\"):\n",
    "            image_paths.append(os.path.join(root, file))"
   ]
  },
  {
   "cell_type": "code",
   "execution_count": null,
   "metadata": {},
   "outputs": [],
   "source": [
    "mask_paths = []\n",
    "for root, dirs, files in os.walk(base_path):\n",
    "    for file in files:\n",
    "        if file.endswith(\".txt\"):\n",
    "            mask_paths.append(os.path.join(root, file))"
   ]
  },
  {
   "cell_type": "code",
   "execution_count": null,
   "metadata": {},
   "outputs": [],
   "source": [
    "for image_path in image_paths:\n",
    "    for _ in range(5):\n",
    "        image = Image.open(image_path)\n",
    "        mask_path = image_path.replace(\"jpg\", \"txt\")\n",
    "        with open(mask_path, \"r\") as mask_file:\n",
    "            lines = mask_file.readlines()\n",
    "            "
   ]
  },
  {
   "cell_type": "code",
   "execution_count": null,
   "metadata": {},
   "outputs": [],
   "source": [
    "crops = []\n",
    "for image_path in image_paths:\n",
    "    for _ in range(5):\n",
    "        image = Image.open(image_path)\n",
    "        width, height = image.size\n",
    "        #mask_path = os.path.join(base_path, image_path.split(\"/\")[2], \"labels\", os.path.basename(image_path).replace(\".jpg\", \".txt\"))\n",
    "        mask_path = os.path.join(base_path, \"labels\", os.path.basename(image_path).replace(\".jpg\", \".txt\"))\n",
    "        with open(mask_path, \"r\") as f:\n",
    "            lines = f.readlines()\n",
    "            empty = False\n",
    "            if len(lines) == 0:\n",
    "                empty = True\n",
    "                x_min_valid = 0\n",
    "                x_max_valid = width - crop_size\n",
    "                y_min_valid = 0\n",
    "                y_max_valid = height - crop_size\n",
    "            else:\n",
    "                line = lines[0]\n",
    "                coordinates = line.split(\" \")[1:]\n",
    "                relative_x = [float(x) * width for x in coordinates[::2]]\n",
    "                relative_y = [float(y) * height for y in coordinates[1::2]]\n",
    "\n",
    "                x_min = min(relative_x)\n",
    "                x_max = max(relative_x)\n",
    "                y_min = min(relative_y)\n",
    "                y_max = max(relative_y)\n",
    "\n",
    "                x_min_valid = max(0, x_max - crop_size)\n",
    "                x_max_valid = min(width - crop_size, x_min)\n",
    "                y_min_valid = max(0, y_max - crop_size)\n",
    "                y_max_valid = min(height - crop_size, y_min)\n",
    "\n",
    "                if x_min_valid >= x_max_valid or y_min_valid >= y_max_valid or x_max_valid - x_min_valid < 0.5 or y_max_valid - y_min_valid < 0.5:\n",
    "                    print(\"Invalid crop for image \" + image_path)\n",
    "                    continue\n",
    "\n",
    "            crop_x = random.randint(math.ceil(x_min_valid), math.floor(x_max_valid))\n",
    "            crop_y = random.randint(math.ceil(y_min_valid), math.floor(y_max_valid))\n",
    "\n",
    "            crop = image.crop((crop_x, crop_y, crop_x + crop_size, crop_y + crop_size))\n",
    "            \n",
    "            if not empty:\n",
    "                relative_x = [(x - crop_x) for x in relative_x]\n",
    "                relative_y = [(y - crop_y) for y in relative_y]\n",
    "                \n",
    "                string = '0 '\n",
    "                for x, y in zip(relative_x, relative_y):\n",
    "                    string += str(x / crop_size) + ' ' + str(y / crop_size) + ' '\n",
    "            else:\n",
    "                string = ''\n",
    "            crops.append((crop, string))"
   ]
  },
  {
   "cell_type": "code",
   "execution_count": null,
   "metadata": {},
   "outputs": [],
   "source": [
    "for i in range(len(crops)):\n",
    "    image, line = crops[i]\n",
    "    try:\n",
    "        image, keypoints = augment_image_and_keypoints(image, line, seq)\n",
    "    except:\n",
    "        continue\n",
    "    line = ''\n",
    "    if len(keypoints.keypoints) > 0:\n",
    "        line = '0 '\n",
    "    for keypoint in keypoints.keypoints:\n",
    "        if keypoint.x < 0 or keypoint.y < 0 or keypoint.x > crop_size or keypoint.y > crop_size:\n",
    "            print(\"Invalid keypoint: \" + str(keypoint.x/crop_size) + \" \" + str(keypoint.y/crop_size))\n",
    "        line += str(keypoint.x/crop_size) + ' ' + str(keypoint.y/crop_size) + ' '\n",
    "    crops[i] = (image, line)"
   ]
  },
  {
   "cell_type": "code",
   "execution_count": null,
   "metadata": {},
   "outputs": [],
   "source": [
    "train_size = int(len(crops) * train)\n",
    "val_size = int(len(crops) * val)\n",
    "test_size = int(len(crops) * test)"
   ]
  },
  {
   "cell_type": "code",
   "execution_count": null,
   "metadata": {},
   "outputs": [],
   "source": [
    "train_indices = random.sample(range(len(crops)), train_size)\n",
    "\n",
    "remaining_indices = [i for i in range(len(crops)) if i not in train_indices]\n",
    "val_indices = random.sample(remaining_indices, val_size)\n",
    "\n",
    "test_indices = [i for i in range(len(crops)) if i not in train_indices and i not in val_indices]\n",
    "\n",
    "train_crops = [crops[i] for i in train_indices]\n",
    "val_crops = [crops[i] for i in val_indices]\n",
    "test_crops = [crops[i] for i in test_indices]"
   ]
  },
  {
   "cell_type": "code",
   "execution_count": null,
   "metadata": {},
   "outputs": [],
   "source": [
    "print(len(image_paths))\n",
    "print(len(crops))\n",
    "print(len(train_crops))\n",
    "print(len(val_crops))\n",
    "print(len(test_crops))"
   ]
  },
  {
   "cell_type": "code",
   "execution_count": null,
   "metadata": {},
   "outputs": [],
   "source": [
    "folder = \"train\"\n",
    "os.makedirs(os.path.join(destination, folder, \"images\"), exist_ok=True)\n",
    "os.makedirs(os.path.join(destination, folder, \"labels\"), exist_ok=True)\n",
    "for image, data in train_crops:\n",
    "    name = str(random.randint(0, 1000000))\n",
    "    #image.save(os.path.join(destination, folder, \"images\", name + \".jpg\"))\n",
    "    # with open(os.path.join(destination, folder, \"labels\", name + \".txt\"), \"w\") as f:\n",
    "        # f.write(data)\n",
    "    values = data.split()\n",
    "    values = [float(x) for x in values]\n",
    "    if any([x < 0 or x > 1 for x in values]):\n",
    "        print(values)"
   ]
  },
  {
   "cell_type": "code",
   "execution_count": null,
   "metadata": {},
   "outputs": [],
   "source": [
    "folder = \"test\"\n",
    "os.makedirs(os.path.join(destination, folder, \"images\"), exist_ok=True)\n",
    "os.makedirs(os.path.join(destination, folder, \"labels\"), exist_ok=True)\n",
    "for image, data in test_crops:\n",
    "    name = str(random.randint(0, 1000000))\n",
    "    image.save(os.path.join(destination, folder, \"images\", name + \".jpg\"))\n",
    "    with open(os.path.join(destination, folder, \"labels\", name + \".txt\"), \"w\") as f:\n",
    "        f.write(data)"
   ]
  },
  {
   "cell_type": "code",
   "execution_count": null,
   "metadata": {},
   "outputs": [],
   "source": [
    "folder = \"valid\"\n",
    "os.makedirs(os.path.join(destination, folder, \"images\"), exist_ok=True)\n",
    "os.makedirs(os.path.join(destination, folder, \"labels\"), exist_ok=True)\n",
    "for image, data in val_crops:\n",
    "    name = str(random.randint(0, 1000000))\n",
    "    image.save(os.path.join(destination, folder, \"images\", name + \".jpg\"))\n",
    "    with open(os.path.join(destination, folder, \"labels\", name + \".txt\"), \"w\") as f:\n",
    "        f.write(data)"
   ]
  }
 ],
 "metadata": {
  "kernelspec": {
   "display_name": "Python 3 (ipykernel)",
   "language": "python",
   "name": "python3"
  },
  "language_info": {
   "codemirror_mode": {
    "name": "ipython",
    "version": 3
   },
   "file_extension": ".py",
   "mimetype": "text/x-python",
   "name": "python",
   "nbconvert_exporter": "python",
   "pygments_lexer": "ipython3",
   "version": "3.9.7"
  }
 },
 "nbformat": 4,
 "nbformat_minor": 2
}
