{
 "cells": [
  {
   "cell_type": "code",
   "execution_count": 1,
   "metadata": {},
   "outputs": [],
   "source": [
    "from PIL import Image\n",
    "import os\n",
    "import random\n",
    "import math\n",
    "import numpy as np\n",
    "import imgaug as ia\n",
    "import imgaug.augmenters as iaa\n",
    "from imgaug.augmentables.segmaps import SegmentationMapsOnImage"
   ]
  },
  {
   "cell_type": "code",
   "execution_count": 2,
   "metadata": {},
   "outputs": [],
   "source": [
    "base_path = \"./roboflow_datasets/runaway-seg-12/train\"\n",
    "destination = \"./cropped_roboflow4-224\"\n",
    "crop_size = 224\n",
    "train = 0.7\n",
    "val = 0.15\n",
    "test = 0.15"
   ]
  },
  {
   "cell_type": "code",
   "execution_count": 3,
   "metadata": {},
   "outputs": [
    {
     "name": "stderr",
     "output_type": "stream",
     "text": [
      "/home/p.kuznetsov/runaway/venv/lib/python3.9/site-packages/imgaug/imgaug.py:188: DeprecationWarning: Function `ContrastNormalization()` is deprecated. Use `imgaug.contrast.LinearContrast` instead.\n",
      "  warn_deprecated(msg, stacklevel=3)\n"
     ]
    }
   ],
   "source": [
    "seq = iaa.Sequential([\n",
    "    iaa.Fliplr(0.5),  # Horizontal flip with 50% probability\n",
    "    iaa.Flipud(0.5),  # Vertical flip with 50% probability\n",
    "    iaa.Affine(\n",
    "        rotate=(-45, 45),  # Rotate between -45 and 45 degrees\n",
    "    ),\n",
    "    iaa.OneOf([  # Either contrast normalization or color augmentation\n",
    "        iaa.ContrastNormalization((0.75, 1.25)),\n",
    "        iaa.Multiply((0.9, 1.1)),\n",
    "        iaa.Grayscale(alpha=(0.0, 0.1))\n",
    "    ]),\n",
    "    iaa.OneOf([  # Either blur or noise transformation\n",
    "        iaa.GaussianBlur(sigma=(0.0, 1.0)),\n",
    "        iaa.AverageBlur(k=(2, 3)),\n",
    "        iaa.MedianBlur(k=(3, 5)),\n",
    "        iaa.BilateralBlur(d=(3, 5), sigma_color=(10, 50), sigma_space=(10, 50)),\n",
    "        iaa.AdditiveGaussianNoise(scale=(0.0, 0.01 * 255)),\n",
    "        iaa.ElasticTransformation(alpha=10, sigma=1)\n",
    "    ])\n",
    "])"
   ]
  },
  {
   "cell_type": "code",
   "execution_count": 4,
   "metadata": {},
   "outputs": [],
   "source": [
    "image_paths = []\n",
    "for root, dirs, files in os.walk(base_path):\n",
    "    for file in files:\n",
    "        if file.endswith(\".jpg\"):\n",
    "            image_paths.append(os.path.join(root, file))"
   ]
  },
  {
   "cell_type": "code",
   "execution_count": 5,
   "metadata": {},
   "outputs": [],
   "source": [
    "mask_paths = []\n",
    "for root, dirs, files in os.walk(base_path):\n",
    "    for file in files:\n",
    "        if file.endswith(\".txt\"):\n",
    "            mask_paths.append(os.path.join(root, file))"
   ]
  },
  {
   "cell_type": "code",
   "execution_count": 6,
   "metadata": {},
   "outputs": [
    {
     "name": "stdout",
     "output_type": "stream",
     "text": [
      "Invalid crop for image ./roboflow_datasets/runaway-seg-12/train/images/104_2022-11-12_2022-12-22_png_jpg.rf.250d12cd0dcb07f0e1a4bca259b1a0ae.jpg\n",
      "Invalid crop for image ./roboflow_datasets/runaway-seg-12/train/images/104_2022-02-07_2022-03-19_png_jpg.rf.a6dde812f91eb5293908fa4c555652d8.jpg\n",
      "Invalid crop for image ./roboflow_datasets/runaway-seg-12/train/images/104_2022-11-12_2022-12-22_png_jpg.rf.28d04e9bfc7a7addceb119772c0cad3c.jpg\n",
      "Invalid crop for image ./roboflow_datasets/runaway-seg-12/train/images/104_2022-07-16_2022-08-25_png_jpg.rf.0729771bccded21a521b472509eb3cf0.jpg\n",
      "Invalid crop for image ./roboflow_datasets/runaway-seg-12/train/images/104_2022-06-06_2022-07-16_png_jpg.rf.7703e3c842389b97af1ef17a3b6db5ba.jpg\n",
      "Invalid crop for image ./roboflow_datasets/runaway-seg-12/train/images/104_2022-06-06_2022-07-16_png_jpg.rf.f2a183f0bbd3b1dd5f243bccc9f0d538.jpg\n",
      "Invalid crop for image ./roboflow_datasets/runaway-seg-12/train/images/104_2022-11-12_2022-12-22_png_jpg.rf.fb7a9f113294fd99bbf619801ff6b12d.jpg\n",
      "Invalid crop for image ./roboflow_datasets/runaway-seg-12/train/images/104_2021-10-10_2021-11-19_png_jpg.rf.c6a66ecd5bb89d3877e114e984ab23d5.jpg\n",
      "Invalid crop for image ./roboflow_datasets/runaway-seg-12/train/images/104_2021-10-10_2021-11-19_png_jpg.rf.0e9a8ff6274a36d72df2a6e76d6240e9.jpg\n",
      "Invalid crop for image ./roboflow_datasets/runaway-seg-12/train/images/104_2022-07-16_2022-08-25_png_jpg.rf.d4d30d0fc0bfad354f886fc47efb31d8.jpg\n",
      "Invalid crop for image ./roboflow_datasets/runaway-seg-12/train/images/104_2021-10-10_2021-11-19_png_jpg.rf.dc760b180c4161e0ca0931fdc955de7e.jpg\n",
      "Invalid crop for image ./roboflow_datasets/runaway-seg-12/train/images/104_2022-02-07_2022-03-19_png_jpg.rf.523513601a72a3a911024b1a4e29bb85.jpg\n",
      "Invalid crop for image ./roboflow_datasets/runaway-seg-12/train/images/104_2021-10-10_2021-11-19_png_jpg.rf.e2fda284b385ea5d7b675afc50e5e8f5.jpg\n",
      "Invalid crop for image ./roboflow_datasets/runaway-seg-12/train/images/104_2022-06-06_2022-07-16_png_jpg.rf.674215595ab841c51dde48e81370401d.jpg\n",
      "Invalid crop for image ./roboflow_datasets/runaway-seg-12/train/images/104_2022-07-16_2022-08-25_png_jpg.rf.10c8ed3d0851161c214a79b36d3db29e.jpg\n",
      "Invalid crop for image ./roboflow_datasets/runaway-seg-12/train/images/104_2022-07-16_2022-08-25_png_jpg.rf.a01a2367a415618e0f05fe0acdf435ee.jpg\n",
      "Invalid crop for image ./roboflow_datasets/runaway-seg-12/train/images/104_2021-10-10_2021-11-19_png_jpg.rf.14bd59239e62cd4c75948415c1354bee.jpg\n",
      "Invalid crop for image ./roboflow_datasets/runaway-seg-12/train/images/104_2022-11-12_2022-12-22_png_jpg.rf.4d0580429a7c5710bdc34e7e623a3466.jpg\n",
      "Invalid crop for image ./roboflow_datasets/runaway-seg-12/train/images/104_2022-06-06_2022-07-16_png_jpg.rf.35b150ec411302633a06113d73c431ac.jpg\n",
      "Invalid crop for image ./roboflow_datasets/runaway-seg-12/train/images/104_2022-07-16_2022-08-25_png_jpg.rf.6aa3e4243f6cd5714fcd8ede52032372.jpg\n",
      "Invalid crop for image ./roboflow_datasets/runaway-seg-12/train/images/104_2022-11-12_2022-12-22_png_jpg.rf.2c9074d2f52d803c06e818eb640c5a7f.jpg\n",
      "Invalid crop for image ./roboflow_datasets/runaway-seg-12/train/images/104_2022-06-06_2022-07-16_png_jpg.rf.ecaa5d15948988885490e59ddce763e5.jpg\n"
     ]
    }
   ],
   "source": [
    "crops = []\n",
    "for image_path in image_paths:\n",
    "    image = Image.open(image_path)\n",
    "    #image = add_padding_to_image(image, crop_size)\n",
    "    width, height = image.size\n",
    "    #mask_path = os.path.join(base_path, image_path.split(\"/\")[2], \"labels\", os.path.basename(image_path).replace(\".jpg\", \".txt\"))\n",
    "    mask_path = os.path.join(base_path, \"labels\", os.path.basename(image_path).replace(\".jpg\", \".txt\"))\n",
    "    with open(mask_path, \"r\") as f:\n",
    "        lines = f.readlines()\n",
    "        empty = False\n",
    "        if len(lines) == 0:\n",
    "            empty = True\n",
    "            x_min_valid = 0\n",
    "            x_max_valid = width - crop_size\n",
    "            y_min_valid = 0\n",
    "            y_max_valid = height - crop_size\n",
    "        else:\n",
    "            line = lines[0]\n",
    "            coordinates = line.split(\" \")[1:]\n",
    "            relative_x = [float(x) * width for x in coordinates[::2]]\n",
    "            relative_y = [float(y) * height for y in coordinates[1::2]]\n",
    "\n",
    "            x_min = min(relative_x)\n",
    "            x_max = max(relative_x)\n",
    "            y_min = min(relative_y)\n",
    "            y_max = max(relative_y)\n",
    "\n",
    "            x_min_valid = max(0, x_max - crop_size)\n",
    "            x_max_valid = min(width - crop_size, x_min)\n",
    "            y_min_valid = max(0, y_max - crop_size)\n",
    "            y_max_valid = min(height - crop_size, y_min)\n",
    "\n",
    "            if x_min_valid >= x_max_valid or y_min_valid >= y_max_valid or x_max_valid - x_min_valid < 0.5 or y_max_valid - y_min_valid < 0.5:\n",
    "                print(\"Invalid crop for image \" + image_path)\n",
    "                continue\n",
    "\n",
    "        crop_x = random.randint(math.ceil(x_min_valid), math.floor(x_max_valid))\n",
    "        crop_y = random.randint(math.ceil(y_min_valid), math.floor(y_max_valid))\n",
    "\n",
    "        crop = image.crop((crop_x, crop_y, crop_x + crop_size, crop_y + crop_size))\n",
    "        \n",
    "        if not empty:\n",
    "            relative_x = [(x - crop_x) for x in relative_x]\n",
    "            relative_y = [(y - crop_y) for y in relative_y]\n",
    "            \n",
    "            string = '0 '\n",
    "            for x, y in zip(relative_x, relative_y):\n",
    "                string += str(x / crop_size) + ' ' + str(y / crop_size) + ' '\n",
    "        else:\n",
    "            string = ''\n",
    "        crops.append((crop, string))"
   ]
  },
  {
   "cell_type": "code",
   "execution_count": 7,
   "metadata": {},
   "outputs": [],
   "source": [
    "def get_polygon_from_line(line):\n",
    "    data = line.strip().split()\n",
    "    \n",
    "    coords = list(map(float, data[1:]))\n",
    "    \n",
    "    points = [(coords[i], coords[i+1]) for i in range(0, len(coords), 2)]\n",
    "    \n",
    "    polygon = ia.Polygon(points)\n",
    "\n",
    "    return polygon"
   ]
  },
  {
   "cell_type": "code",
   "execution_count": 8,
   "metadata": {},
   "outputs": [],
   "source": [
    "def augment_image_and_polygons(image, line):\n",
    "    image_np = np.array(image, dtype=np.uint8)\n",
    "    \n",
    "    polygons_on_image = ia.PolygonsOnImage([get_polygon_from_line(line)], shape=image_np.shape)\n",
    "    \n",
    "    image_aug_np, polygons_aug = seq(image=image_np, polygons=polygons_on_image)\n",
    "    \n",
    "    image_aug_pil = Image.fromarray(image_aug_np)\n",
    "    \n",
    "    return image_aug_pil, polygons_aug.polygons"
   ]
  },
  {
   "cell_type": "code",
   "execution_count": 9,
   "metadata": {},
   "outputs": [],
   "source": [
    "for i in range(len(crops)):\n",
    "    image, line = crops[i]\n",
    "    try:\n",
    "        image, polygons = augment_image_and_polygons(image, line)\n",
    "    except:\n",
    "        continue\n",
    "    line = '0 '\n",
    "    for x, y in polygons[0].exterior:\n",
    "        line += str(x) + ' ' + str(y) + ' '\n",
    "    crops[i] = (image, line)"
   ]
  },
  {
   "cell_type": "code",
   "execution_count": 10,
   "metadata": {},
   "outputs": [],
   "source": [
    "train_size = int(len(crops) * train)\n",
    "val_size = int(len(crops) * val)\n",
    "test_size = int(len(crops) * test)"
   ]
  },
  {
   "cell_type": "code",
   "execution_count": 11,
   "metadata": {},
   "outputs": [],
   "source": [
    "train_indices = random.sample(range(len(crops)), train_size)\n",
    "\n",
    "remaining_indices = [i for i in range(len(crops)) if i not in train_indices]\n",
    "val_indices = random.sample(remaining_indices, val_size)\n",
    "\n",
    "test_indices = [i for i in range(len(crops)) if i not in train_indices and i not in val_indices]\n",
    "\n",
    "train_crops = [crops[i] for i in train_indices]\n",
    "val_crops = [crops[i] for i in val_indices]\n",
    "test_crops = [crops[i] for i in test_indices]"
   ]
  },
  {
   "cell_type": "code",
   "execution_count": 12,
   "metadata": {},
   "outputs": [
    {
     "name": "stdout",
     "output_type": "stream",
     "text": [
      "3138\n",
      "3116\n",
      "2181\n",
      "467\n",
      "468\n"
     ]
    }
   ],
   "source": [
    "print(len(image_paths))\n",
    "print(len(crops))\n",
    "print(len(train_crops))\n",
    "print(len(val_crops))\n",
    "print(len(test_crops))"
   ]
  },
  {
   "cell_type": "code",
   "execution_count": 13,
   "metadata": {},
   "outputs": [],
   "source": [
    "folder = \"train\"\n",
    "os.makedirs(os.path.join(destination, folder, \"images\"), exist_ok=True)\n",
    "os.makedirs(os.path.join(destination, folder, \"labels\"), exist_ok=True)\n",
    "for image, data in train_crops:\n",
    "    name = str(random.randint(0, 1000000))\n",
    "    image.save(os.path.join(destination, folder, \"images\", name + \".jpg\"))\n",
    "    with open(os.path.join(destination, folder, \"labels\", name + \".txt\"), \"w\") as f:\n",
    "        f.write(data)"
   ]
  },
  {
   "cell_type": "code",
   "execution_count": 14,
   "metadata": {},
   "outputs": [],
   "source": [
    "folder = \"test\"\n",
    "os.makedirs(os.path.join(destination, folder, \"images\"), exist_ok=True)\n",
    "os.makedirs(os.path.join(destination, folder, \"labels\"), exist_ok=True)\n",
    "for image, data in test_crops:\n",
    "    name = str(random.randint(0, 1000000))\n",
    "    image.save(os.path.join(destination, folder, \"images\", name + \".jpg\"))\n",
    "    with open(os.path.join(destination, folder, \"labels\", name + \".txt\"), \"w\") as f:\n",
    "        f.write(data)"
   ]
  },
  {
   "cell_type": "code",
   "execution_count": 15,
   "metadata": {},
   "outputs": [],
   "source": [
    "folder = \"valid\"\n",
    "os.makedirs(os.path.join(destination, folder, \"images\"), exist_ok=True)\n",
    "os.makedirs(os.path.join(destination, folder, \"labels\"), exist_ok=True)\n",
    "for image, data in val_crops:\n",
    "    name = str(random.randint(0, 1000000))\n",
    "    image.save(os.path.join(destination, folder, \"images\", name + \".jpg\"))\n",
    "    with open(os.path.join(destination, folder, \"labels\", name + \".txt\"), \"w\") as f:\n",
    "        f.write(data)"
   ]
  }
 ],
 "metadata": {
  "kernelspec": {
   "display_name": "Python 3 (ipykernel)",
   "language": "python",
   "name": "python3"
  },
  "language_info": {
   "codemirror_mode": {
    "name": "ipython",
    "version": 3
   },
   "file_extension": ".py",
   "mimetype": "text/x-python",
   "name": "python",
   "nbconvert_exporter": "python",
   "pygments_lexer": "ipython3",
   "version": "3.9.7"
  }
 },
 "nbformat": 4,
 "nbformat_minor": 2
}
