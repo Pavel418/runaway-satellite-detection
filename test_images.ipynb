{
 "cells": [
  {
   "cell_type": "code",
   "execution_count": 1,
   "metadata": {},
   "outputs": [
    {
     "name": "stderr",
     "output_type": "stream",
     "text": [
      "c:\\Users\\Admin\\Documents\\GitHub\\runaway-satellite-detection\\.venv\\Lib\\site-packages\\tqdm\\auto.py:21: TqdmWarning: IProgress not found. Please update jupyter and ipywidgets. See https://ipywidgets.readthedocs.io/en/stable/user_install.html\n",
      "  from .autonotebook import tqdm as notebook_tqdm\n"
     ]
    }
   ],
   "source": [
    "import datetime\n",
    "import os\n",
    "import tarfile\n",
    "import matplotlib.pyplot as plt\n",
    "import numpy as np\n",
    "import shutil\n",
    "from shapely import Polygon\n",
    "\n",
    "from sentinelhub import (\n",
    "    CRS,\n",
    "    BBox,\n",
    "    DataCollection,\n",
    "    DownloadRequest,\n",
    "    MimeType,\n",
    "    MosaickingOrder,\n",
    "    SentinelHubDownloadClient,\n",
    "    SentinelHubRequest,\n",
    "    bbox_to_dimensions,\n",
    "    SHConfig,\n",
    ")\n",
    "import geopandas as gpd\n",
    "\n",
    "# The following is not a package. It is a file utils.py which should be in the same folder as this notebook.\n",
    "from utils import plot_image"
   ]
  },
  {
   "cell_type": "code",
   "execution_count": 2,
   "metadata": {},
   "outputs": [],
   "source": [
    "resolution = 10\n",
    "config = SHConfig()"
   ]
  },
  {
   "cell_type": "code",
   "execution_count": 3,
   "metadata": {},
   "outputs": [],
   "source": [
    "def get_image(path, bbox, time):\n",
    "    size = bbox_to_dimensions(bbox, resolution=resolution)\n",
    "    evalscript_true_color = \"\"\"\n",
    "        //VERSION=3\n",
    "\n",
    "        function setup() {\n",
    "            return {\n",
    "                input: [{\n",
    "                    bands: [\"B02\", \"B03\", \"B04\"]\n",
    "                }],\n",
    "                output: [\n",
    "                {\n",
    "                    id: \"default\",\n",
    "                    bands: 3,\n",
    "                    sampleType: SampleType.AUTO,\n",
    "                },\n",
    "                {\n",
    "                    id: \"image\",\n",
    "                    bands: 3,\n",
    "                    sampleType: SampleType.AUTO,\n",
    "                }]\n",
    "            };\n",
    "        }\n",
    "\n",
    "        function evaluatePixel(sample) {\n",
    "            return {\n",
    "                default: [4*sample.B04, 4*sample.B03, 4*sample.B02],\n",
    "                image: [4*sample.B04, 4*sample.B03, 4*sample.B02],\n",
    "            };\n",
    "        }\n",
    "    \"\"\"\n",
    "\n",
    "    return SentinelHubRequest(\n",
    "        data_folder = os.path.join(path, time[0] + '_' + time[1]),\n",
    "        evalscript=evalscript_true_color,\n",
    "        input_data=[\n",
    "            SentinelHubRequest.input_data(\n",
    "                data_collection=DataCollection.SENTINEL2_L1C,\n",
    "                time_interval=time,\n",
    "                mosaicking_order=MosaickingOrder.LEAST_CC,\n",
    "            )\n",
    "        ],\n",
    "        responses=[SentinelHubRequest.output_response(\"default\", MimeType.PNG),\n",
    "                   SentinelHubRequest.output_response(\"image\", MimeType.TIFF)],\n",
    "        bbox=bbox,\n",
    "        size=size,\n",
    "        config=config,\n",
    "    )"
   ]
  },
  {
   "cell_type": "code",
   "execution_count": 4,
   "metadata": {},
   "outputs": [],
   "source": [
    "def extract_and_remove_tar_files(parent_directory):\n",
    "    # Iterate through all directories in the specified parent directory\n",
    "    for root, dirs, files in os.walk(parent_directory):\n",
    "        for dir_name in dirs:\n",
    "            dir_path = os.path.join(root, dir_name)\n",
    "\n",
    "            # Get the list of files and directories inside the subdirectory\n",
    "            sub_items = os.listdir(dir_path)\n",
    "            \n",
    "            inner_dir = os.path.join(dir_path, sub_items[0])\n",
    "            \n",
    "            if os.path.isdir(inner_dir):\n",
    "                tar_file = os.path.join(inner_dir, \"response.tar\")\n",
    "                \n",
    "                if os.path.isfile(tar_file):\n",
    "                    try:\n",
    "                        with tarfile.open(tar_file, \"r\") as tar:\n",
    "                            tar.extractall(path=dir_path)\n",
    "\n",
    "                        os.remove(tar_file)\n",
    "                        shutil.rmtree(inner_dir)\n",
    "                    except Exception as e:\n",
    "                        print(f\"Error processing {tar_file}: {e}\")"
   ]
  },
  {
   "cell_type": "code",
   "execution_count": 5,
   "metadata": {},
   "outputs": [
    {
     "name": "stderr",
     "output_type": "stream",
     "text": [
      "100%|██████████| 15/15 [00:35<00:00,  2.34s/it]\n",
      "100%|██████████| 15/15 [00:31<00:00,  2.08s/it]\n",
      "100%|██████████| 15/15 [00:30<00:00,  2.02s/it]\n",
      "100%|██████████| 15/15 [00:34<00:00,  2.29s/it]\n",
      "100%|██████████| 15/15 [00:25<00:00,  1.73s/it]\n",
      "100%|██████████| 15/15 [00:29<00:00,  1.99s/it]\n",
      "100%|██████████| 15/15 [00:40<00:00,  2.71s/it]\n",
      "100%|██████████| 15/15 [00:30<00:00,  2.00s/it]\n",
      "100%|██████████| 15/15 [00:41<00:00,  2.79s/it]\n",
      "100%|██████████| 15/15 [00:29<00:00,  1.99s/it]\n",
      "100%|██████████| 15/15 [00:37<00:00,  2.53s/it]\n"
     ]
    }
   ],
   "source": [
    "for file in os.listdir(\"./test/shp\"):\n",
    "    if file.endswith(\".shp\"):\n",
    "        shapefile = gpd.read_file(f\"./test/shp/{file}\")\n",
    "        geometry = shapefile.geometry\n",
    "        polygon = Polygon(geometry[0])\n",
    "        bbox = BBox(polygon.bounds, crs=shapefile.crs)\n",
    "        year = int(file.split('_')[1])\n",
    "        start = datetime.datetime(year - 1, 9, 1)\n",
    "        end = datetime.datetime(year + 1, 5, 31)\n",
    "        n_chunks = 16\n",
    "        tdelta = (end - start) / n_chunks\n",
    "        edges = [(start + i * tdelta).date().isoformat() for i in range(n_chunks)]\n",
    "        slots = [(edges[i], edges[i + 1]) for i in range(len(edges) - 1)]\n",
    "\n",
    "        path = os.path.join('./test_images', str(file.split('_')[1] + '_' + file.split('_')[2]))\n",
    "        os.makedirs(path, exist_ok=True)\n",
    "\n",
    "        list_of_requests = []\n",
    "        for slot in slots:\n",
    "            list_of_requests.append(get_image(path, bbox, slot))\n",
    "        list_of_requests = [request.download_list[0] for request in list_of_requests]\n",
    "\n",
    "        data = SentinelHubDownloadClient(config=config).download(list_of_requests, max_threads=20, show_progress=True)\n",
    "\n",
    "        extract_and_remove_tar_files(path)"
   ]
  },
  {
   "cell_type": "code",
   "execution_count": null,
   "metadata": {},
   "outputs": [],
   "source": []
  }
 ],
 "metadata": {
  "kernelspec": {
   "display_name": ".venv",
   "language": "python",
   "name": "python3"
  },
  "language_info": {
   "codemirror_mode": {
    "name": "ipython",
    "version": 3
   },
   "file_extension": ".py",
   "mimetype": "text/x-python",
   "name": "python",
   "nbconvert_exporter": "python",
   "pygments_lexer": "ipython3",
   "version": "3.11.5"
  }
 },
 "nbformat": 4,
 "nbformat_minor": 2
}
