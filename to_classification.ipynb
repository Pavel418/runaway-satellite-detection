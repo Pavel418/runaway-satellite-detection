{
 "cells": [
  {
   "cell_type": "code",
   "execution_count": 1,
   "metadata": {},
   "outputs": [],
   "source": [
    "import os\n",
    "import shutil"
   ]
  },
  {
   "cell_type": "code",
   "execution_count": 2,
   "metadata": {},
   "outputs": [],
   "source": [
    "base_dir = \"./seg-14-augmented\"\n",
    "target_dir = \"./cls-14\"\n",
    "sub_dirs = [\"train\", \"valid\", \"test\"]"
   ]
  },
  {
   "cell_type": "code",
   "execution_count": 3,
   "metadata": {},
   "outputs": [],
   "source": [
    "background = []\n",
    "road = []"
   ]
  },
  {
   "cell_type": "code",
   "execution_count": 4,
   "metadata": {},
   "outputs": [],
   "source": [
    "for sub_dir in sub_dirs:\n",
    "    for root, dirs, files in os.walk(os.path.join(base_dir, sub_dir)):\n",
    "        for file in files:\n",
    "            if file.endswith(\".txt\"):\n",
    "                with open(os.path.join(root, file), \"r\") as f:\n",
    "                    if (len(f.read()) < 3):\n",
    "                        background.append(os.path.join(base_dir, sub_dir, \"images\", file.replace(\".txt\", \".jpg\")))\n",
    "                    else:\n",
    "                        road.append(os.path.join(base_dir, sub_dir, \"images\", file.replace(\".txt\", \".jpg\")))"
   ]
  },
  {
   "cell_type": "code",
   "execution_count": 5,
   "metadata": {},
   "outputs": [],
   "source": [
    "for img in background:\n",
    "    path = img.split(os.sep)\n",
    "    start = os.path.join(target_dir, path[2], \"background\")\n",
    "    if not os.path.exists(start):\n",
    "        os.makedirs(start)\n",
    "    shutil.copy(img, os.path.join(start, path[4]))\n",
    "\n",
    "for img in road:\n",
    "    path = img.split(os.sep)\n",
    "    start = os.path.join(target_dir, path[2], \"road\")\n",
    "    if not os.path.exists(start):\n",
    "        os.makedirs(start)\n",
    "    shutil.copy(img, os.path.join(start, path[4]))"
   ]
  }
 ],
 "metadata": {
  "kernelspec": {
   "display_name": "Python 3 (ipykernel)",
   "language": "python",
   "name": "python3"
  }
 },
 "nbformat": 4,
 "nbformat_minor": 2
}
