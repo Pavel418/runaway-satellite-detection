{
 "cells": [
  {
   "cell_type": "code",
   "execution_count": 1,
   "metadata": {
    "execution": {
     "iopub.execute_input": "2024-10-21T07:39:38.092294Z",
     "iopub.status.busy": "2024-10-21T07:39:38.091771Z",
     "iopub.status.idle": "2024-10-21T07:39:38.432215Z",
     "shell.execute_reply": "2024-10-21T07:39:38.431476Z"
    }
   },
   "outputs": [],
   "source": [
    "%reload_ext autoreload\n",
    "%autoreload 2\n",
    "%matplotlib inline"
   ]
  },
  {
   "cell_type": "code",
   "execution_count": 2,
   "metadata": {
    "execution": {
     "iopub.execute_input": "2024-10-21T07:39:38.435430Z",
     "iopub.status.busy": "2024-10-21T07:39:38.435145Z",
     "iopub.status.idle": "2024-10-21T07:39:40.706346Z",
     "shell.execute_reply": "2024-10-21T07:39:40.704960Z"
    }
   },
   "outputs": [],
   "source": [
    "from pathlib import Path\n",
    "from fastai.vision.all import *\n",
    "from fastai.metrics import error_rate"
   ]
  },
  {
   "cell_type": "code",
   "execution_count": 3,
   "metadata": {
    "execution": {
     "iopub.execute_input": "2024-10-21T07:39:40.710116Z",
     "iopub.status.busy": "2024-10-21T07:39:40.709762Z",
     "iopub.status.idle": "2024-10-21T07:39:40.732459Z",
     "shell.execute_reply": "2024-10-21T07:39:40.731624Z"
    }
   },
   "outputs": [],
   "source": [
    "images_folder = \"yolo-focused-3\"\n",
    "masks_folder = \"focused_masks-3\"\n",
    "path = Path(f'/home/p.kuznetsov/runaway/datasets')"
   ]
  },
  {
   "cell_type": "code",
   "execution_count": 4,
   "metadata": {
    "execution": {
     "iopub.execute_input": "2024-10-21T07:39:40.736362Z",
     "iopub.status.busy": "2024-10-21T07:39:40.735936Z",
     "iopub.status.idle": "2024-10-21T07:39:40.769960Z",
     "shell.execute_reply": "2024-10-21T07:39:40.768739Z"
    }
   },
   "outputs": [],
   "source": [
    "def get_mask_path(image_path):\n",
    "    return str(image_path).replace(images_folder, masks_folder).replace(\"/images\", \"\").replace(\".jpg\", \".png\")"
   ]
  },
  {
   "cell_type": "code",
   "execution_count": 5,
   "metadata": {
    "execution": {
     "iopub.execute_input": "2024-10-21T07:39:40.773117Z",
     "iopub.status.busy": "2024-10-21T07:39:40.772873Z",
     "iopub.status.idle": "2024-10-21T07:39:40.792833Z",
     "shell.execute_reply": "2024-10-21T07:39:40.791807Z"
    }
   },
   "outputs": [],
   "source": [
    "segmentation_block = DataBlock(\n",
    "    blocks=(ImageBlock, MaskBlock),\n",
    "    get_items=get_image_files,\n",
    "    splitter=GrandparentSplitter(train_name='train', valid_name='valid'),\n",
    "    get_y=get_mask_path,\n",
    ")"
   ]
  },
  {
   "cell_type": "code",
   "execution_count": 6,
   "metadata": {
    "execution": {
     "iopub.execute_input": "2024-10-21T07:39:40.872133Z",
     "iopub.status.busy": "2024-10-21T07:39:40.871638Z",
     "iopub.status.idle": "2024-10-21T07:39:43.159399Z",
     "shell.execute_reply": "2024-10-21T07:39:43.158441Z"
    }
   },
   "outputs": [],
   "source": [
    "dls = segmentation_block.dataloaders(path/images_folder, path=path, bs=4)  "
   ]
  },
  {
   "cell_type": "code",
   "execution_count": 7,
   "metadata": {
    "execution": {
     "iopub.execute_input": "2024-10-21T07:39:43.554948Z",
     "iopub.status.busy": "2024-10-21T07:39:43.554378Z",
     "iopub.status.idle": "2024-10-21T07:40:02.636554Z",
     "shell.execute_reply": "2024-10-21T07:40:02.635878Z"
    }
   },
   "outputs": [],
   "source": [
    "model = \"resnet50\"\n",
    "learn = unet_learner(dls, resnet50, metrics=Dice(), n_out=3)\n",
    "learn.opt_fn = Adam"
   ]
  },
  {
   "cell_type": "code",
   "execution_count": null,
   "metadata": {
    "execution": {
     "iopub.execute_input": "2024-10-21T07:40:02.640558Z",
     "iopub.status.busy": "2024-10-21T07:40:02.640259Z",
     "iopub.status.idle": "2024-10-21T08:16:40.488941Z",
     "shell.execute_reply": "2024-10-21T08:16:40.487556Z"
    }
   },
   "outputs": [],
   "source": [
    "learn.fit(1, 5e-4)"
   ]
  },
  {
   "cell_type": "code",
   "execution_count": null,
   "metadata": {},
   "outputs": [],
   "source": [
    "learn.save(f\"{model}-stage-1\")"
   ]
  },
  {
   "cell_type": "code",
   "execution_count": null,
   "metadata": {},
   "outputs": [],
   "source": [
    "learn.load(f\"{model}-stage-1\")"
   ]
  },
  {
   "cell_type": "code",
   "execution_count": null,
   "metadata": {},
   "outputs": [],
   "source": [
    "learn.fit_one_cycle(1, slice(1e-5, 1e-3))"
   ]
  },
  {
   "cell_type": "code",
   "execution_count": null,
   "metadata": {},
   "outputs": [],
   "source": [
    "learn.save(f\"{model}-stage-2\")"
   ]
  },
  {
   "cell_type": "code",
   "execution_count": null,
   "metadata": {},
   "outputs": [],
   "source": [
    "learn.load(f\"{model}-stage-2\")"
   ]
  },
  {
   "cell_type": "code",
   "execution_count": null,
   "metadata": {},
   "outputs": [],
   "source": [
    "learn.fit_one_cycle(1, slice(1e-5, 1e-3))"
   ]
  },
  {
   "cell_type": "code",
   "execution_count": null,
   "metadata": {},
   "outputs": [],
   "source": [
    "learn.save(f\"{model}-stage-3\")"
   ]
  },
  {
   "cell_type": "code",
   "execution_count": null,
   "metadata": {},
   "outputs": [],
   "source": [
    "learn.load(f\"{model}-stage-3\")"
   ]
  },
  {
   "cell_type": "code",
   "execution_count": null,
   "metadata": {},
   "outputs": [],
   "source": [
    "learn.fit_one_cycle(1, slice(1e-5, 1e-3))"
   ]
  },
  {
   "cell_type": "code",
   "execution_count": null,
   "metadata": {},
   "outputs": [],
   "source": [
    "learn.save(f\"{model}-stage-4\")"
   ]
  },
  {
   "cell_type": "code",
   "execution_count": 17,
   "metadata": {},
   "outputs": [
    {
     "data": {
      "text/plain": [
       "<fastai.learner.Learner at 0x7f8b9fcbfcd0>"
      ]
     },
     "execution_count": 17,
     "metadata": {},
     "output_type": "execute_result"
    }
   ],
   "source": [
    "learn.load(f\"{model}-stage-2\")"
   ]
  },
  {
   "cell_type": "code",
   "execution_count": 18,
   "metadata": {},
   "outputs": [
    {
     "data": {
      "text/html": [
       "\n",
       "<style>\n",
       "    /* Turns off some styling */\n",
       "    progress {\n",
       "        /* gets rid of default border in Firefox and Opera. */\n",
       "        border: none;\n",
       "        /* Needs to be in here for Safari polyfill so background images work as expected. */\n",
       "        background-size: auto;\n",
       "    }\n",
       "    progress:not([value]), progress:not([value])::-webkit-progress-bar {\n",
       "        background: repeating-linear-gradient(45deg, #7e7e7e, #7e7e7e 10px, #5c5c5c 10px, #5c5c5c 20px);\n",
       "    }\n",
       "    .progress-bar-interrupted, .progress-bar-interrupted::-webkit-progress-bar {\n",
       "        background: #F44336;\n",
       "    }\n",
       "</style>\n"
      ],
      "text/plain": [
       "<IPython.core.display.HTML object>"
      ]
     },
     "metadata": {},
     "output_type": "display_data"
    },
    {
     "data": {
      "text/html": [
       "\n",
       "    <div>\n",
       "      <progress value='0' class='' max='51' style='width:300px; height:20px; vertical-align: middle;'></progress>\n",
       "      0.00% [0/51 00:00&lt;?]\n",
       "    </div>\n",
       "    "
      ],
      "text/plain": [
       "<IPython.core.display.HTML object>"
      ]
     },
     "metadata": {},
     "output_type": "display_data"
    },
    {
     "data": {
      "text/plain": [
       "(#2) [0.01408215519040823,0.622025286754686]"
      ]
     },
     "execution_count": 18,
     "metadata": {},
     "output_type": "execute_result"
    }
   ],
   "source": [
    "learn.validate()"
   ]
  }
 ],
 "metadata": {
  "kernelspec": {
   "display_name": "Python 3 (ipykernel)",
   "language": "python",
   "name": "python3"
  },
  "language_info": {
   "codemirror_mode": {
    "name": "ipython",
    "version": 3
   },
   "file_extension": ".py",
   "mimetype": "text/x-python",
   "name": "python",
   "nbconvert_exporter": "python",
   "pygments_lexer": "ipython3",
   "version": "3.9.7"
  }
 },
 "nbformat": 4,
 "nbformat_minor": 2
}
