{
 "cells": [
  {
   "cell_type": "code",
   "execution_count": 2,
   "metadata": {},
   "outputs": [],
   "source": [
    "import os\n",
    "import rasterio\n",
    "import geopandas as gpd\n",
    "from shapely.geometry import LineString, Polygon"
   ]
  },
  {
   "cell_type": "code",
   "execution_count": 3,
   "metadata": {},
   "outputs": [],
   "source": [
    "# Paths\n",
    "main_directory = \"./data\"\n",
    "shapefile_path = \"./train/pac_2024_training.shp\""
   ]
  },
  {
   "cell_type": "code",
   "execution_count": 3,
   "metadata": {},
   "outputs": [],
   "source": [
    "# Load shapefile\n",
    "shapefile = gpd.read_file(shapefile_path)"
   ]
  },
  {
   "cell_type": "code",
   "execution_count": 4,
   "metadata": {},
   "outputs": [
    {
     "name": "stdout",
     "output_type": "stream",
     "text": [
      "Subdirectory: 102, Number of LINESTRINGs: 2\n",
      "Subdirectory: 108, Number of LINESTRINGs: 2\n",
      "Subdirectory: 11, Number of LINESTRINGs: 3\n",
      "Subdirectory: 12, Number of LINESTRINGs: 3\n",
      "Subdirectory: 129, Number of LINESTRINGs: 2\n",
      "Subdirectory: 13, Number of LINESTRINGs: 3\n",
      "Subdirectory: 134, Number of LINESTRINGs: 2\n",
      "Subdirectory: 135, Number of LINESTRINGs: 2\n",
      "Subdirectory: 138, Number of LINESTRINGs: 2\n",
      "Subdirectory: 14, Number of LINESTRINGs: 2\n",
      "Subdirectory: 140, Number of LINESTRINGs: 2\n",
      "Subdirectory: 142, Number of LINESTRINGs: 3\n",
      "Subdirectory: 143, Number of LINESTRINGs: 3\n",
      "Subdirectory: 144, Number of LINESTRINGs: 4\n",
      "Subdirectory: 146, Number of LINESTRINGs: 2\n",
      "Subdirectory: 148, Number of LINESTRINGs: 4\n",
      "Subdirectory: 15, Number of LINESTRINGs: 2\n",
      "Subdirectory: 22, Number of LINESTRINGs: 4\n",
      "Subdirectory: 23, Number of LINESTRINGs: 4\n",
      "Subdirectory: 24, Number of LINESTRINGs: 3\n",
      "Subdirectory: 25, Number of LINESTRINGs: 3\n",
      "Subdirectory: 38, Number of LINESTRINGs: 2\n",
      "Subdirectory: 4, Number of LINESTRINGs: 3\n",
      "Subdirectory: 42, Number of LINESTRINGs: 2\n",
      "Subdirectory: 43, Number of LINESTRINGs: 2\n",
      "Subdirectory: 44, Number of LINESTRINGs: 3\n",
      "Subdirectory: 45, Number of LINESTRINGs: 4\n",
      "Subdirectory: 5, Number of LINESTRINGs: 2\n",
      "Subdirectory: 6, Number of LINESTRINGs: 2\n",
      "Subdirectory: 69, Number of LINESTRINGs: 2\n",
      "Subdirectory: 7, Number of LINESTRINGs: 2\n",
      "Subdirectory: 70, Number of LINESTRINGs: 2\n",
      "Subdirectory: 72, Number of LINESTRINGs: 2\n",
      "Subdirectory: 73, Number of LINESTRINGs: 2\n",
      "Subdirectory: 76, Number of LINESTRINGs: 5\n",
      "Subdirectory: 77, Number of LINESTRINGs: 2\n",
      "Subdirectory: 78, Number of LINESTRINGs: 4\n",
      "Subdirectory: 79, Number of LINESTRINGs: 3\n",
      "Subdirectory: 80, Number of LINESTRINGs: 4\n",
      "Subdirectory: 81, Number of LINESTRINGs: 4\n",
      "Subdirectory: 82, Number of LINESTRINGs: 3\n",
      "Subdirectory: 83, Number of LINESTRINGs: 3\n",
      "Subdirectory: 93, Number of LINESTRINGs: 2\n",
      "Subdirectory: 94, Number of LINESTRINGs: 2\n"
     ]
    }
   ],
   "source": [
    "directories = []\n",
    "\n",
    "# Loop through main directory\n",
    "for subdir in os.listdir(main_directory):\n",
    "    subdir_path = os.path.join(main_directory, subdir)\n",
    "    \n",
    "    # Skip if not a directory\n",
    "    if not os.path.isdir(subdir_path):\n",
    "        continue\n",
    "    \n",
    "    linestrings = shapefile['geometry']\n",
    "    \n",
    "    count_linestrings = 0\n",
    "    \n",
    "    # Loop through the 15 subdirectories within each main subdirectory\n",
    "    subsubdirs = os.listdir(subdir_path)\n",
    "    subsubdir_path = os.path.join(subdir_path, subsubdirs[0])\n",
    "    \n",
    "    # Path to the image\n",
    "    image_path = os.path.join(subsubdir_path, \"image.tif\")\n",
    "    \n",
    "    # Check if image exists\n",
    "    if not os.path.isfile(image_path):\n",
    "        continue\n",
    "    \n",
    "    # Open raster\n",
    "    with rasterio.open(image_path) as src:\n",
    "        raster_bounds = Polygon([\n",
    "            (src.bounds.left, src.bounds.bottom),\n",
    "            (src.bounds.left, src.bounds.top),\n",
    "            (src.bounds.right, src.bounds.top),\n",
    "            (src.bounds.right, src.bounds.bottom)\n",
    "        ])\n",
    "        \n",
    "        # Check if raster contains more than one LineString\n",
    "        for line in linestrings:\n",
    "            if raster_bounds.intersects(line):\n",
    "                count_linestrings += 1\n",
    "    \n",
    "    # Output if more than 1 LineString is contained in the raster\n",
    "    if count_linestrings > 1:\n",
    "        print(f\"Subdirectory: {subdir}, Number of LINESTRINGs: {count_linestrings}\")\n",
    "        directories.append(subdir)"
   ]
  },
  {
   "cell_type": "code",
   "execution_count": 8,
   "metadata": {},
   "outputs": [
    {
     "ename": "Error",
     "evalue": "Destination path './multiple_roads\\102' already exists",
     "output_type": "error",
     "traceback": [
      "\u001b[1;31m---------------------------------------------------------------------------\u001b[0m",
      "\u001b[1;31mError\u001b[0m                                     Traceback (most recent call last)",
      "Cell \u001b[1;32mIn[8], line 6\u001b[0m\n\u001b[0;32m      4\u001b[0m \u001b[38;5;66;03m# Move directories with multiple LineStrings to a new directory\u001b[39;00m\n\u001b[0;32m      5\u001b[0m \u001b[38;5;28;01mfor\u001b[39;00m directory \u001b[38;5;129;01min\u001b[39;00m directories:\n\u001b[1;32m----> 6\u001b[0m     \u001b[43mshutil\u001b[49m\u001b[38;5;241;43m.\u001b[39;49m\u001b[43mmove\u001b[49m\u001b[43m(\u001b[49m\u001b[43mos\u001b[49m\u001b[38;5;241;43m.\u001b[39;49m\u001b[43mpath\u001b[49m\u001b[38;5;241;43m.\u001b[39;49m\u001b[43mjoin\u001b[49m\u001b[43m(\u001b[49m\u001b[43mmain_directory\u001b[49m\u001b[43m,\u001b[49m\u001b[43m \u001b[49m\u001b[43mdirectory\u001b[49m\u001b[43m)\u001b[49m\u001b[43m,\u001b[49m\u001b[43m \u001b[49m\u001b[43mto_move\u001b[49m\u001b[43m)\u001b[49m\n",
      "File \u001b[1;32mC:\\Python311\\Lib\\shutil.py:823\u001b[0m, in \u001b[0;36mmove\u001b[1;34m(src, dst, copy_function)\u001b[0m\n\u001b[0;32m    820\u001b[0m     real_dst \u001b[38;5;241m=\u001b[39m os\u001b[38;5;241m.\u001b[39mpath\u001b[38;5;241m.\u001b[39mjoin(dst, _basename(src))\n\u001b[0;32m    822\u001b[0m     \u001b[38;5;28;01mif\u001b[39;00m os\u001b[38;5;241m.\u001b[39mpath\u001b[38;5;241m.\u001b[39mexists(real_dst):\n\u001b[1;32m--> 823\u001b[0m         \u001b[38;5;28;01mraise\u001b[39;00m Error(\u001b[38;5;124m\"\u001b[39m\u001b[38;5;124mDestination path \u001b[39m\u001b[38;5;124m'\u001b[39m\u001b[38;5;132;01m%s\u001b[39;00m\u001b[38;5;124m'\u001b[39m\u001b[38;5;124m already exists\u001b[39m\u001b[38;5;124m\"\u001b[39m \u001b[38;5;241m%\u001b[39m real_dst)\n\u001b[0;32m    824\u001b[0m \u001b[38;5;28;01mtry\u001b[39;00m:\n\u001b[0;32m    825\u001b[0m     os\u001b[38;5;241m.\u001b[39mrename(src, real_dst)\n",
      "\u001b[1;31mError\u001b[0m: Destination path './multiple_roads\\102' already exists"
     ]
    }
   ],
   "source": [
    "import shutil\n",
    "to_move = \"./multiple_roads\"\n",
    "\n",
    "# Move directories with multiple LineStrings to a new directory\n",
    "for directory in directories:\n",
    "    shutil.move(os.path.join(main_directory, directory), to_move)"
   ]
  },
  {
   "cell_type": "code",
   "execution_count": 5,
   "metadata": {},
   "outputs": [
    {
     "data": {
      "text/plain": [
       "825"
      ]
     },
     "execution_count": 5,
     "metadata": {},
     "output_type": "execute_result"
    }
   ],
   "source": [
    "len(os.listdir(main_directory)) * 15"
   ]
  }
 ],
 "metadata": {
  "kernelspec": {
   "display_name": ".venv",
   "language": "python",
   "name": "python3"
  },
  "language_info": {
   "codemirror_mode": {
    "name": "ipython",
    "version": 3
   },
   "file_extension": ".py",
   "mimetype": "text/x-python",
   "name": "python",
   "nbconvert_exporter": "python",
   "pygments_lexer": "ipython3",
   "version": "3.11.5"
  }
 },
 "nbformat": 4,
 "nbformat_minor": 2
}
