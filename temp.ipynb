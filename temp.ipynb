{
 "cells": [
  {
   "cell_type": "code",
   "execution_count": 1,
   "metadata": {},
   "outputs": [],
   "source": [
    "import geopandas as gpd\n",
    "from shapely.geometry import Polygon\n",
    "from oauthlib.oauth2 import BackendApplicationClient\n",
    "from requests_oauthlib import OAuth2Session\n",
    "from dotenv import load_dotenv\n",
    "from datetime import datetime\n",
    "import os\n",
    "import tarfile\n",
    "import io\n",
    "import rasterio\n",
    "from rasterio.io import MemoryFile\n",
    "from rasterio.plot import show"
   ]
  },
  {
   "cell_type": "code",
   "execution_count": 2,
   "metadata": {},
   "outputs": [],
   "source": [
    "load_dotenv()\n",
    "\n",
    "client_id = os.getenv(\"CLIENT_ID\")\n",
    "client_secret = os.getenv(\"CLIENT_SECRET\")\n",
    "\n",
    "url = \"https://sh.dataspace.copernicus.eu/api/v1/catalog/1.0.0/search\""
   ]
  },
  {
   "cell_type": "code",
   "execution_count": 3,
   "metadata": {},
   "outputs": [],
   "source": [
    "client = BackendApplicationClient(client_id=client_id)\n",
    "oauth = OAuth2Session(client=client)\n",
    "\n",
    "# Get token for the session\n",
    "token = oauth.fetch_token(token_url='https://identity.dataspace.copernicus.eu/auth/realms/CDSE/protocol/openid-connect/token',\n",
    "                          client_secret=client_secret, include_client_id=True)"
   ]
  },
  {
   "cell_type": "code",
   "execution_count": 4,
   "metadata": {},
   "outputs": [],
   "source": [
    "gdf = gpd.read_file('train/pac_2024_training.shp')"
   ]
  },
  {
   "cell_type": "code",
   "execution_count": 5,
   "metadata": {},
   "outputs": [],
   "source": [
    "grouped = gdf.groupby('yr')"
   ]
  },
  {
   "cell_type": "code",
   "execution_count": null,
   "metadata": {},
   "outputs": [],
   "source": []
  },
  {
   "cell_type": "code",
   "execution_count": 6,
   "metadata": {},
   "outputs": [],
   "source": [
    "def generate_time_range(year):\n",
    "    previous_year = year - 1\n",
    "    next_year = year + 1\n",
    "\n",
    "    start_date = f\"{previous_year}-06-01T00:00:00Z\"\n",
    "    end_date = f\"{next_year}-06-01T00:00:00Z\"\n",
    "\n",
    "    return start_date, end_date"
   ]
  },
  {
   "cell_type": "code",
   "execution_count": 7,
   "metadata": {},
   "outputs": [],
   "source": [
    "def download_data(bounds, year):\n",
    "    evalscript = \"\"\"\n",
    "    //VERSION=3\n",
    "    function setup() {\n",
    "    return {\n",
    "        input: [\n",
    "        {\n",
    "            bands: [\"B04\", \"B03\", \"B02\"],\n",
    "            units: \"REFLECTANCE\", // default units\n",
    "        },\n",
    "        ],\n",
    "        output: [\n",
    "        {\n",
    "            id: \"default\",\n",
    "            bands: 3,\n",
    "            sampleType: \"AUTO\", // default  - scales the output values from input values [0,1] to [0,255].\n",
    "        }\n",
    "        //{\n",
    "        //    id: \"true_color_16bit\",\n",
    "        //    bands: 3,\n",
    "        //    sampleType: \"UINT16\", //floating point values are automatically rounded to the nearest integer by the service.\n",
    "        //},\n",
    "        ],\n",
    "    }\n",
    "    }\n",
    "\n",
    "    function evaluatePixel(sample) {\n",
    "    return {\n",
    "        // output band values are scaled from [0,1] to [0,255]. Multiply by 2.5 to increase brightness\n",
    "        default: [2.5 * sample.B04, 2.5 * sample.B03, 2.5 * sample.B02],\n",
    "\n",
    "        // Multiply input reflectance values by 2.5 to increase brightness and by 65535 to return the band values clamped to [0, 65535] unsigned 16 bit range.\n",
    "        // true_color_16bit: [\n",
    "        // 2.5 * sample.B04 * 65535,\n",
    "        // 2.5 * sample.B03 * 65535,\n",
    "        // 2.5 * sample.B02 * 65535,\n",
    "        // ]\n",
    "    }\n",
    "    }\n",
    "    \"\"\"\n",
    "\n",
    "    start_date, end_date = generate_time_range(year)\n",
    "\n",
    "    request = {\n",
    "        \"input\": {\n",
    "            \"bounds\": {\n",
    "                \"properties\": {\"crs\": \"http://www.opengis.net/def/crs/OGC/1.3/CRS84\"},\n",
    "                \"bbox\": [\n",
    "                    bounds[0],\n",
    "                    bounds[1],\n",
    "                    bounds[2],\n",
    "                    bounds[3],\n",
    "                ],\n",
    "            },\n",
    "            \"data\": [\n",
    "                {\n",
    "                    \"type\": \"sentinel-2-l1c\",\n",
    "                    \"dataFilter\": {\n",
    "                        \"timeRange\": {\n",
    "                            \"from\": start_date,\n",
    "                            \"to\": end_date,\n",
    "                        },\n",
    "                        \"maxCloudCoverage\": 20,\n",
    "                    },\n",
    "                }\n",
    "            ],\n",
    "        },\n",
    "        \"output\": {    \n",
    "            \"width\": 1024,\n",
    "            \"height\": 1024,\n",
    "            \"responses\": [\n",
    "                # {\n",
    "                #     \"identifier\": \"default\",\n",
    "                #     \"format\": {\"type\": \"image/jpeg\"},\n",
    "                # },\n",
    "                {\n",
    "                    \"identifier\": \"default\",\n",
    "                    \"format\": {\"type\": \"image/tiff\"},\n",
    "                },\n",
    "            ],\n",
    "        },\n",
    "        \"evalscript\": evalscript,\n",
    "    }\n",
    "\n",
    "    url = \"https://sh.dataspace.copernicus.eu/api/v1/process\"\n",
    "    return oauth.post(url, json=request, headers={\"Accept\": \"application/tar\"})"
   ]
  },
  {
   "cell_type": "code",
   "execution_count": 8,
   "metadata": {},
   "outputs": [],
   "source": [
    "for name, group in grouped:\n",
    "    for idx, row in group.iterrows():\n",
    "        bounds = row['geometry'].bounds\n",
    "        \n",
    "        response = download_data(bounds, name)\n",
    "\n",
    "        if response.status_code == 200:\n",
    "            break\n",
    "        else:\n",
    "            print(response.json())\n",
    "        \n",
    "        break\n",
    "    break"
   ]
  },
  {
   "cell_type": "code",
   "execution_count": 9,
   "metadata": {},
   "outputs": [
    {
     "name": "stdout",
     "output_type": "stream",
     "text": [
      "Opened default.tif with rasterio.\n",
      "{'driver': 'GTiff', 'dtype': 'uint8', 'nodata': None, 'width': 1024, 'height': 1024, 'count': 3, 'crs': CRS.from_epsg(4326), 'transform': Affine(3.435106928489917e-07, 0.0, -69.14224792429687,\n",
      "       0.0, -8.648338029354496e-06, -13.685654549844925), 'blockysize': 8, 'tiled': False, 'compress': 'deflate', 'interleave': 'pixel'}\n",
      "[[0 0 0 ... 0 0 0]\n",
      " [0 0 0 ... 0 0 0]\n",
      " [0 0 0 ... 0 0 0]\n",
      " ...\n",
      " [0 0 0 ... 0 0 0]\n",
      " [0 0 0 ... 0 0 0]\n",
      " [0 0 0 ... 0 0 0]]\n"
     ]
    },
    {
     "data": {
      "image/png": "[encoded data removed]",
      "text/plain": [
       "<Figure size 640x480 with 1 Axes>"
      ]
     },
     "metadata": {},
     "output_type": "display_data"
    }
   ],
   "source": [
    "try:\n",
    "    # Step 3: Open the TAR file from the in-memory bytes\n",
    "    tar_bytes = io.BytesIO(response.content)\n",
    "    \n",
    "    with tarfile.open(fileobj=tar_bytes) as tar:\n",
    "        # Step 4: Get the first (and only) file in the TAR archive\n",
    "        member = tar.getmembers()[0]\n",
    "        \n",
    "        # Ensure the file is a .tif\n",
    "        if member.name.endswith('.tif'):\n",
    "            # Step 5: Extract the .tif file content into memory\n",
    "            tif_file = tar.extractfile(member)\n",
    "            \n",
    "            if tif_file:\n",
    "                # Step 6: Use rasterio to open the .tif file directly from memory\n",
    "                with MemoryFile(tif_file.read()) as memfile:\n",
    "                    with memfile.open() as dataset:\n",
    "                        print(f\"Opened {member.name} with rasterio.\")\n",
    "                        # Perform operations with rasterio\n",
    "                        print(dataset.profile)  # Example: print the profile of the .tif file\n",
    "                        # Example: read the first band of the raster\n",
    "                        band1 = dataset.read(1)\n",
    "                        print(band1)\n",
    "                        show(band1)\n",
    "                \n",
    "except tarfile.TarError as e:\n",
    "    print(f\"Error extracting TAR file: {e}\")"
   ]
  }
 ],
 "metadata": {
  "kernelspec": {
   "display_name": ".venv",
   "language": "python",
   "name": "python3"
  },
  "language_info": {
   "codemirror_mode": {
    "name": "ipython",
    "version": 3
   },
   "file_extension": ".py",
   "mimetype": "text/x-python",
   "name": "python",
   "nbconvert_exporter": "python",
   "pygments_lexer": "ipython3",
   "version": "3.11.5"
  }
 },
 "nbformat": 4,
 "nbformat_minor": 2
}
