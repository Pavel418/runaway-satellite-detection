{
 "cells": [
  {
   "cell_type": "code",
   "execution_count": 1,
   "metadata": {},
   "outputs": [],
   "source": [
    "from PIL import Image\n",
    "import os\n",
    "import random\n",
    "import math\n",
    "import numpy as np\n",
    "import imgaug as ia\n",
    "import imgaug.augmenters as iaa\n",
    "from imgaug.augmentables.bbs import BoundingBox, BoundingBoxesOnImage  "
   ]
  },
  {
   "cell_type": "code",
   "execution_count": 2,
   "metadata": {},
   "outputs": [],
   "source": [
    "# base_path = \"./roboflow_datasets/cats-13/train\"\n",
    "base_path = \"./seg-data/train\"\n",
    "destination = \"./seg-converted-bb-full-augmentation\"\n",
    "crop_size = 224"
   ]
  },
  {
   "cell_type": "code",
   "execution_count": null,
   "metadata": {},
   "outputs": [],
   "source": [
    "seq = iaa.Sequential([\n",
    "    iaa.Fliplr(0.5),  # Horizontal flip with 50% probability\n",
    "    iaa.Flipud(0.5),  # Vertical flip with 50% probability\n",
    "    iaa.OneOf([  # Either contrast normalization or color augmentation\n",
    "        iaa.ContrastNormalization((0.66, 1.5)),\n",
    "        iaa.Multiply((0.7, 1.3)),\n",
    "        iaa.Grayscale(alpha=(0.0, 0.15))\n",
    "    ]),\n",
    "    iaa.OneOf([  # Either blur or noise transformation\n",
    "        iaa.GaussianBlur(sigma=(0.0, 1)),\n",
    "        iaa.AverageBlur(k=(2, 3)),\n",
    "        iaa.MedianBlur(k=(3)),\n",
    "        iaa.BilateralBlur(d=(3, 5), sigma_color=(10, 50), sigma_space=(10, 50)),\n",
    "        iaa.AdditiveGaussianNoise(scale=(0.0, 0.01 * 255)),\n",
    "        iaa.ElasticTransformation(alpha=2, sigma=1)\n",
    "    ])\n",
    "])\n",
    "\n",
    "rotate = iaa.Affine(rotate=(-90, 90))"
   ]
  },
  {
   "cell_type": "code",
   "execution_count": 4,
   "metadata": {},
   "outputs": [],
   "source": [
    "def get_bb_from_line(line, image_height, image_width):\n",
    "    data = line.strip().split()\n",
    "    \n",
    "    center_x = float(data[1]) * image_width\n",
    "    center_y = float(data[2]) * image_height\n",
    "    \n",
    "    bb_width = float(data[3]) * image_width\n",
    "    bb_height = float(data[4]) * image_height\n",
    "\n",
    "    x1 = center_x - bb_width / 2\n",
    "    y1 = center_y - bb_height / 2\n",
    "    x2 = center_x + bb_width / 2\n",
    "    y2 = center_y + bb_height / 2\n",
    "\n",
    "    return BoundingBox(x1, y1, x2, y2)\n",
    "\n",
    "    \n",
    "def augment_image_and_boxes(image, lines, sequence):\n",
    "    image_np = np.array(image, dtype=np.uint8)\n",
    "    \n",
    "    boxes = []\n",
    "    for line in lines:\n",
    "        boxes.append(get_bb_from_line(line, image.height, image.width))\n",
    "\n",
    "    boundingBoxesOnImage = BoundingBoxesOnImage(boxes, shape=image_np.shape)\n",
    "    \n",
    "    image_aug_np, bboxes_augmentated = sequence(image=image_np, bounding_boxes=boundingBoxesOnImage)\n",
    "    \n",
    "    image_aug_pil = Image.fromarray(image_aug_np)\n",
    "    \n",
    "    return image_aug_pil, bboxes_augmentated"
   ]
  },
  {
   "cell_type": "code",
   "execution_count": 5,
   "metadata": {},
   "outputs": [],
   "source": [
    "mask_paths = []\n",
    "for root, dirs, files in os.walk(base_path):\n",
    "    for file in files:\n",
    "        if file.endswith(\".txt\"):\n",
    "            mask_paths.append(os.path.join(root, file))"
   ]
  },
  {
   "cell_type": "code",
   "execution_count": null,
   "metadata": {},
   "outputs": [],
   "source": [
    "image_and_paths = []\n",
    "for root, dirs, files in os.walk(base_path):\n",
    "    for file in files:\n",
    "        if file.endswith(\".jpg\"):\n",
    "            image_path = os.path.join(root, file)\n",
    "            image = Image.open(image_path)\n",
    "            #mask_path = os.path.join(base_path, image_path.split(\"/\")[2], \"labels\", os.path.basename(image_path).replace(\".jpg\", \".txt\"))\n",
    "            mask_path = os.path.join(base_path, \"labels\", os.path.basename(image_path).replace(\".jpg\", \".txt\"))\n",
    "            try:\n",
    "                with open(mask_path, \"r\") as mask_file:\n",
    "                    lines = mask_file.readlines()\n",
    "                    empty = len(lines) == 0\n",
    "                    image_and_paths.append((image, lines, file, empty))\n",
    "            except FileNotFoundError:\n",
    "                print(f\"File not found: {mask_path}\")\n",
    "                lines = []\n",
    "                empty = True\n",
    "                image_and_paths.append((image, lines, file, empty))"
   ]
  },
  {
   "cell_type": "code",
   "execution_count": null,
   "metadata": {},
   "outputs": [],
   "source": [
    "count_dict = {}\n",
    "\n",
    "for image_and_path in image_and_paths:\n",
    "    _, _, s, _ = image_and_path\n",
    "    number = s.split('_')[0]\n",
    "    try:\n",
    "        number = int(number)\n",
    "    except:\n",
    "        print(number)\n",
    "        if -1 in count_dict:\n",
    "            count_dict[-1] += 1\n",
    "        else:\n",
    "            count_dict[-1] = 1\n",
    "        continue\n",
    "\n",
    "    if number in count_dict:\n",
    "        count_dict[number] += 1\n",
    "    else:\n",
    "        count_dict[number] = 1\n",
    "\n",
    "sorted_counts = sorted(count_dict.items(), key=lambda x: x[1], reverse=True)\n",
    "\n",
    "# total = 0\n",
    "# for number, count in sorted_counts:\n",
    "#     print(f\"Number {number}: {count} instance(s)\")"
   ]
  },
  {
   "cell_type": "code",
   "execution_count": null,
   "metadata": {},
   "outputs": [],
   "source": [
    "test_numbers = []\n",
    "total = 0\n",
    "for number, count in sorted_counts:\n",
    "    if (count > 1 and count < 6) and number not in test_numbers:\n",
    "        test_numbers.append(number)\n",
    "        total += count\n",
    "print(f\"Total: {total}\")"
   ]
  },
  {
   "cell_type": "code",
   "execution_count": 9,
   "metadata": {},
   "outputs": [],
   "source": [
    "import copy\n",
    "val_numbers = copy.deepcopy(test_numbers)"
   ]
  },
  {
   "cell_type": "code",
   "execution_count": 10,
   "metadata": {},
   "outputs": [],
   "source": [
    "# val_numbers = []\n",
    "# total = 0\n",
    "# for number, count in sorted_counts:\n",
    "#     if (count > 2 and count < 6) and number not in val_numbers:\n",
    "#         val_numbers.append(number)\n",
    "#         total += count\n",
    "# print(f\"Total: {total}\")"
   ]
  },
  {
   "cell_type": "code",
   "execution_count": 11,
   "metadata": {},
   "outputs": [],
   "source": [
    "test_image_and_paths = []\n",
    "for image_and_path in image_and_paths:\n",
    "    image, lines, file, empty = image_and_path\n",
    "    try:\n",
    "        number = int(file.split('_')[0])\n",
    "    except:\n",
    "        number = -1\n",
    "    if number in test_numbers:\n",
    "        test_image_and_paths.append(image_and_path)"
   ]
  },
  {
   "cell_type": "code",
   "execution_count": 12,
   "metadata": {},
   "outputs": [],
   "source": [
    "val_image_and_paths = []\n",
    "for image_and_path in image_and_paths:\n",
    "    image, lines, file, empty = image_and_path\n",
    "    try:\n",
    "        number = int(file.split('_')[0])\n",
    "    except:\n",
    "        number = -1\n",
    "    if number in val_numbers:\n",
    "        val_image_and_paths.append(image_and_path)"
   ]
  },
  {
   "cell_type": "code",
   "execution_count": 13,
   "metadata": {},
   "outputs": [],
   "source": [
    "train_image_and_paths = []\n",
    "for image_and_path in image_and_paths:\n",
    "    image, lines, file, empty = image_and_path\n",
    "    try:\n",
    "        number = int(file.split('_')[0])\n",
    "    except:\n",
    "        number = -1\n",
    "    if number not in test_numbers and number not in val_numbers:\n",
    "        train_image_and_paths.append(image_and_path)"
   ]
  },
  {
   "cell_type": "code",
   "execution_count": 14,
   "metadata": {},
   "outputs": [],
   "source": [
    "train_rotated = []\n",
    "for crop in train_image_and_paths:\n",
    "    for _ in range(4):\n",
    "        image, lines, _, _ = crop\n",
    "        image, bboxes = augment_image_and_boxes(image, lines, rotate)\n",
    "        train_rotated.append((image, bboxes))"
   ]
  },
  {
   "cell_type": "code",
   "execution_count": null,
   "metadata": {},
   "outputs": [],
   "source": [
    "import matplotlib.pyplot as plt\n",
    "\n",
    "image = train_rotated[0][0]\n",
    "bboxes = train_rotated[0][1]\n",
    "# Convert PIL Image to NumPy array\n",
    "img_array = np.array(image)\n",
    "\n",
    "# Create a Matplotlib figure and axis\n",
    "plt.figure(figsize=(8, 6))\n",
    "plt.imshow(img_array)\n",
    "plt.axis('off')  # Hide axis\n",
    "\n",
    "# Loop over all bounding boxes\n",
    "for bbox in bboxes.bounding_boxes:\n",
    "    # Extract the top-left corner of the bounding box\n",
    "    x1, y1 = bbox.x1, bbox.y1\n",
    "    # Calculate the width and height of the bounding box\n",
    "    width = bbox.x2 - bbox.x1\n",
    "    height = bbox.y2 - bbox.y1\n",
    "    # Create a Rectangle patch\n",
    "    rect = plt.Rectangle((x1, y1), width, height, linewidth=2, edgecolor='r', facecolor='none')\n",
    "    # Add the patch to the Axes\n",
    "    plt.gca().add_patch(rect)\n",
    "\n",
    "# Show the image\n",
    "plt.show()"
   ]
  },
  {
   "cell_type": "code",
   "execution_count": 16,
   "metadata": {},
   "outputs": [],
   "source": [
    "def crop(image, bboxes):\n",
    "    while True:\n",
    "        width, height = image.size\n",
    "        empty = False\n",
    "        if len(bboxes) == 0:\n",
    "            empty = True\n",
    "            x_min_valid = 0\n",
    "            x_max_valid = width - crop_size\n",
    "            y_min_valid = 0\n",
    "            y_max_valid = height - crop_size\n",
    "        else:\n",
    "            relative_x = [bbox.x1 for bbox in bboxes.bounding_boxes]\n",
    "            relative_x.extend([bbox.x2 for bbox in bboxes.bounding_boxes])\n",
    "\n",
    "            relative_y = [bbox.y1 for bbox in bboxes.bounding_boxes]\n",
    "            relative_y.extend([bbox.y2 for bbox in bboxes.bounding_boxes])\n",
    "            \n",
    "            x_min = min(relative_x)\n",
    "            x_max = max(relative_x)\n",
    "            y_min = min(relative_y)\n",
    "            y_max = max(relative_y)\n",
    "\n",
    "            x_min_valid = max(0, x_max - crop_size)\n",
    "            x_max_valid = min(width - crop_size, x_min)\n",
    "            y_min_valid = max(0, y_max - crop_size)\n",
    "            y_max_valid = min(height - crop_size, y_min)\n",
    "\n",
    "            if x_min_valid >= x_max_valid or y_min_valid >= y_max_valid or x_max_valid - x_min_valid < 0.5 or y_max_valid - y_min_valid < 0.5:\n",
    "                print(\"Invalid crop for image \" + image_path)\n",
    "                return None\n",
    "\n",
    "        crop_x = random.randint(math.ceil(x_min_valid), math.floor(x_max_valid))\n",
    "        crop_y = random.randint(math.ceil(y_min_valid), math.floor(y_max_valid))\n",
    "\n",
    "        crop = image.crop((crop_x, crop_y, crop_x + crop_size, crop_y + crop_size))\n",
    "\n",
    "        pixels = crop.load()\n",
    "\n",
    "        black = 0\n",
    "        for x in range(crop_size):\n",
    "            for y in range(crop_size):\n",
    "                if pixels[x, y] == (0, 0, 0):\n",
    "                    black += 1\n",
    "        if black < 0.3 * crop_size * crop_size:\n",
    "            break\n",
    "    \n",
    "    if not empty:\n",
    "        string = \"0 \"\n",
    "        for bbox in bboxes.bounding_boxes:\n",
    "            center_x = (bbox.x1 + bbox.x2) / 2 - crop_x\n",
    "            center_y = (bbox.y1 + bbox.y2) / 2 - crop_y\n",
    "            bb_width = bbox.x2 - bbox.x1\n",
    "            bb_height = bbox.y2 - bbox.y1\n",
    "            string += f\"{center_x / crop_size} {center_y / crop_size} {bb_width / crop_size} {bb_height / crop_size}\"\n",
    "    else:\n",
    "        string = ''\n",
    "    return (crop, string)"
   ]
  },
  {
   "cell_type": "code",
   "execution_count": 17,
   "metadata": {},
   "outputs": [],
   "source": [
    "train_cropped = []\n",
    "for i, rotated in enumerate(train_rotated):\n",
    "    for _ in range(5):\n",
    "        image, bboxes = rotated\n",
    "        cropped = crop(image, bboxes)\n",
    "        if cropped is not None:\n",
    "            train_cropped.append(cropped)"
   ]
  },
  {
   "cell_type": "code",
   "execution_count": null,
   "metadata": {},
   "outputs": [],
   "source": [
    "import matplotlib.pyplot as plt\n",
    "\n",
    "image = train_cropped[1][0]\n",
    "line = train_cropped[1][1]\n",
    "\n",
    "points = line.split()[1:]\n",
    "x, y, w, h = [float(point) * crop_size for point in points]\n",
    "\n",
    "# Convert PIL Image to NumPy array\n",
    "img_array = np.array(image)\n",
    "\n",
    "# Create a Matplotlib figure and axis\n",
    "plt.figure(figsize=(8, 6))\n",
    "plt.imshow(img_array)\n",
    "plt.axis('off')  # Hide axis\n",
    "\n",
    "plt.gca().add_patch(plt.Rectangle((x - w/2, y - h/2), w, h, linewidth=2, edgecolor='r', facecolor='none'))\n",
    "\n",
    "# Show the image\n",
    "plt.show()"
   ]
  },
  {
   "cell_type": "code",
   "execution_count": null,
   "metadata": {},
   "outputs": [],
   "source": [
    "test_cropped = []\n",
    "for i, rotated in enumerate(test_image_and_paths):\n",
    "    image, lines, _, _ = rotated\n",
    "    image, bboxes = augment_image_and_boxes(image, lines, seq)\n",
    "    cropped = crop(image, bboxes)\n",
    "    if cropped is not None:\n",
    "        test_cropped.append(cropped)"
   ]
  },
  {
   "cell_type": "code",
   "execution_count": null,
   "metadata": {},
   "outputs": [],
   "source": [
    "val_cropped = []\n",
    "for i, rotated in enumerate(val_image_and_paths):\n",
    "    image, lines, _, _ = rotated\n",
    "    image, bboxes = augment_image_and_boxes(image, lines, seq)\n",
    "    cropped = crop(image, bboxes)\n",
    "    if cropped is not None:\n",
    "        val_cropped.append(cropped)"
   ]
  },
  {
   "cell_type": "code",
   "execution_count": 21,
   "metadata": {},
   "outputs": [],
   "source": [
    "for i in range(len(train_cropped)):\n",
    "    image, line = train_cropped[i]\n",
    "    try:\n",
    "        image, bboxes = augment_image_and_boxes(image, line, seq)\n",
    "    except:\n",
    "        continue\n",
    "    line = ''\n",
    "    if len(bboxes.bounding_boxes) > 0:\n",
    "        for bbox in bboxes.bounding_boxes:\n",
    "            line += \"0 \"\n",
    "            center_x = (bbox.x1 + bbox.x2) / 2\n",
    "            center_y = (bbox.y1 + bbox.y2) / 2\n",
    "            bb_width = bbox.x2 - bbox.x1\n",
    "            bb_height = bbox.y2 - bbox.y1\n",
    "            line += f\"{center_x / crop_size} {center_y / crop_size} {bb_width / crop_size} {bb_height / crop_size}\\n\"\n",
    "    train_cropped[i] = (image, line)"
   ]
  },
  {
   "cell_type": "code",
   "execution_count": null,
   "metadata": {},
   "outputs": [],
   "source": [
    "print(\"Train size: \" + str(len(train_cropped)))\n",
    "print(\"Val size: \" + str(len(val_cropped)))\n",
    "print(\"Test size: \" + str(len(test_cropped)))"
   ]
  },
  {
   "cell_type": "code",
   "execution_count": null,
   "metadata": {},
   "outputs": [],
   "source": [
    "from matplotlib import pyplot as plt\n",
    "for i in range(0, len(train_cropped), 250):\n",
    "    image, data = train_cropped[i]\n",
    "    # Convert PIL Image to NumPy array\n",
    "    img_array = np.array(image)\n",
    "    \n",
    "    # Create a Matplotlib figure and axis\n",
    "    plt.figure(figsize=(8, 6))\n",
    "    plt.imshow(img_array)\n",
    "    plt.axis('off')  # Hide axis\n",
    "    \n",
    "    # Parse the data string to extract coordinates\n",
    "    points = data.strip().split()\n",
    "\n",
    "    if len(points) == 0:\n",
    "        continue\n",
    "    \n",
    "    x, y, w, h = [float(p) * crop_size for p in points[1:]]\n",
    "    plt.gca().add_patch(plt.Rectangle((x - w/2, y - h/2), w, h, linewidth=2, edgecolor='r', facecolor='none'))\n",
    "    \n",
    "    plt.show()"
   ]
  },
  {
   "cell_type": "code",
   "execution_count": 24,
   "metadata": {},
   "outputs": [],
   "source": [
    "folder = \"train\"\n",
    "os.makedirs(os.path.join(destination, folder, \"images\"), exist_ok=True)\n",
    "os.makedirs(os.path.join(destination, folder, \"labels\"), exist_ok=True)\n",
    "for image, data in train_cropped:\n",
    "    name = str(random.randint(0, 1000000))\n",
    "    image.save(os.path.join(destination, folder, \"images\", name + \".jpg\"))\n",
    "    with open(os.path.join(destination, folder, \"labels\", name + \".txt\"), \"w\") as f:\n",
    "        f.write(data)"
   ]
  },
  {
   "cell_type": "code",
   "execution_count": 25,
   "metadata": {},
   "outputs": [],
   "source": [
    "folder = \"test\"\n",
    "os.makedirs(os.path.join(destination, folder, \"images\"), exist_ok=True)\n",
    "os.makedirs(os.path.join(destination, folder, \"labels\"), exist_ok=True)\n",
    "for image, data in test_cropped:\n",
    "    name = str(random.randint(0, 1000000))\n",
    "    image.save(os.path.join(destination, folder, \"images\", name + \".jpg\"))\n",
    "    with open(os.path.join(destination, folder, \"labels\", name + \".txt\"), \"w\") as f:\n",
    "        f.write(data)"
   ]
  },
  {
   "cell_type": "code",
   "execution_count": 26,
   "metadata": {},
   "outputs": [],
   "source": [
    "folder = \"valid\"\n",
    "os.makedirs(os.path.join(destination, folder, \"images\"), exist_ok=True)\n",
    "os.makedirs(os.path.join(destination, folder, \"labels\"), exist_ok=True)\n",
    "for image, data in val_cropped:\n",
    "    name = str(random.randint(0, 1000000))\n",
    "    image.save(os.path.join(destination, folder, \"images\", name + \".jpg\"))\n",
    "    with open(os.path.join(destination, folder, \"labels\", name + \".txt\"), \"w\") as f:\n",
    "        f.write(data)"
   ]
  }
 ],
 "metadata": {
  "kernelspec": {
   "display_name": "Python 3 (ipykernel)",
   "language": "python",
   "name": "python3"
  },
  "language_info": {
   "codemirror_mode": {
    "name": "ipython",
    "version": 3
   },
   "file_extension": ".py",
   "mimetype": "text/x-python",
   "name": "python",
   "nbconvert_exporter": "python",
   "pygments_lexer": "ipython3",
   "version": "3.9.7"
  }
 },
 "nbformat": 4,
 "nbformat_minor": 2
}
