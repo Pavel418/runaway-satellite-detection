{
 "cells": [
  {
   "cell_type": "code",
   "execution_count": 1,
   "metadata": {},
   "outputs": [],
   "source": [
    "from PIL import Image\n",
    "import os\n",
    "import random\n",
    "import math\n",
    "import numpy as np\n",
    "import imgaug as ia\n",
    "import imgaug.augmenters as iaa\n",
    "from imgaug.augmentables.bbs import BoundingBox, BoundingBoxesOnImage  "
   ]
  },
  {
   "cell_type": "code",
   "execution_count": 2,
   "metadata": {},
   "outputs": [],
   "source": [
    "# base_path = \"./roboflow_datasets/cats-13/train\"\n",
    "base_path = \"./coco_converted\"\n",
    "destination = \"./coco_converted_224\"\n",
    "crop_size = 224"
   ]
  },
  {
   "cell_type": "code",
   "execution_count": null,
   "metadata": {},
   "outputs": [],
   "source": [
    "seq = iaa.Sequential([\n",
    "    iaa.Fliplr(0.5),  # Horizontal flip with 50% probability\n",
    "    iaa.Flipud(0.5),  # Vertical flip with 50% probability\n",
    "    iaa.OneOf([  # Either contrast normalization or color augmentation\n",
    "        iaa.ContrastNormalization((0.75, 1.25)),\n",
    "        iaa.Multiply((0.8, 1.2)),\n",
    "        iaa.Grayscale(alpha=(0.0, 0.1))\n",
    "    ]),\n",
    "    iaa.OneOf([  # Either blur or noise transformation\n",
    "        iaa.GaussianBlur(sigma=(0.0, 1)),\n",
    "        iaa.AverageBlur(k=(2, 3)),\n",
    "        iaa.MedianBlur(k=(3)),\n",
    "        iaa.BilateralBlur(d=(3, 5), sigma_color=(10, 50), sigma_space=(10, 50)),\n",
    "        iaa.AdditiveGaussianNoise(scale=(0.0, 0.01 * 255)),\n",
    "        iaa.ElasticTransformation(alpha=2, sigma=1)\n",
    "    ])\n",
    "])\n",
    "\n",
    "rotate = iaa.Affine(rotate=(-45, 45))"
   ]
  },
  {
   "cell_type": "code",
   "execution_count": 4,
   "metadata": {},
   "outputs": [],
   "source": [
    "def get_bb_from_line(line, image_height, image_width):\n",
    "    data = line.strip().split()\n",
    "    \n",
    "    center_x = float(data[1])\n",
    "    center_y = float(data[2])\n",
    "    \n",
    "    bb_width = float(data[3]) * image_width\n",
    "    bb_height = float(data[4]) * image_height\n",
    "\n",
    "    x1 = center_x - bb_width / 2\n",
    "    y1 = center_y - bb_height / 2\n",
    "    x2 = center_x + bb_width / 2\n",
    "    y2 = center_y + bb_height / 2\n",
    "\n",
    "    return BoundingBox(x1, y1, x2, y2)\n",
    "\n",
    "    \n",
    "def augment_image_and_boxes(image, lines, sequence):\n",
    "    image_np = np.array(image, dtype=np.uint8)\n",
    "    \n",
    "    boxes = []\n",
    "    for line in lines:\n",
    "        boxes.append(get_bb_from_line(line, image.height, image.width))\n",
    "\n",
    "    boundingBoxesOnImage = BoundingBoxesOnImage(boxes, shape=image_np.shape)\n",
    "    \n",
    "    image_aug_np, bboxes_augmentated = sequence(image=image_np, bounding_boxes=boundingBoxesOnImage)\n",
    "    \n",
    "    image_aug_pil = Image.fromarray(image_aug_np)\n",
    "    \n",
    "    return image_aug_pil, bboxes_augmentated"
   ]
  },
  {
   "cell_type": "code",
   "execution_count": 5,
   "metadata": {},
   "outputs": [],
   "source": [
    "mask_paths = []\n",
    "for root, dirs, files in os.walk(base_path):\n",
    "    for file in files:\n",
    "        if file.endswith(\".txt\"):\n",
    "            mask_paths.append(os.path.join(root, file))"
   ]
  },
  {
   "cell_type": "code",
   "execution_count": null,
   "metadata": {},
   "outputs": [],
   "source": [
    "image_and_paths = []\n",
    "for root, dirs, files in os.walk(base_path):\n",
    "    for file in files:\n",
    "        if file.endswith(\".jpg\"):\n",
    "            image_path = os.path.join(root, file)\n",
    "            image = Image.open(image_path)\n",
    "            #mask_path = os.path.join(base_path, image_path.split(\"/\")[2], \"labels\", os.path.basename(image_path).replace(\".jpg\", \".txt\"))\n",
    "            mask_path = os.path.join(base_path, \"labels\", os.path.basename(image_path).replace(\".jpg\", \".txt\"))\n",
    "            try:\n",
    "                with open(mask_path, \"r\") as mask_file:\n",
    "                    lines = mask_file.readlines()\n",
    "                    empty = len(lines) == 0\n",
    "                    image_and_paths.append((image, lines, file, empty))\n",
    "            except FileNotFoundError:\n",
    "                print(f\"File not found: {mask_path}\")\n",
    "                lines = []\n",
    "                empty = True\n",
    "                image_and_paths.append((image, lines, file, empty))"
   ]
  },
  {
   "cell_type": "code",
   "execution_count": null,
   "metadata": {},
   "outputs": [],
   "source": [
    "count_dict = {}\n",
    "\n",
    "for image_and_path in image_and_paths:\n",
    "    _, _, s, _ = image_and_path\n",
    "    number = s.split('_')[0]\n",
    "    try:\n",
    "        number = int(number)\n",
    "    except:\n",
    "        print(number)\n",
    "        if -1 in count_dict:\n",
    "            count_dict[-1] += 1\n",
    "        else:\n",
    "            count_dict[-1] = 1\n",
    "        continue\n",
    "\n",
    "    if number in count_dict:\n",
    "        count_dict[number] += 1\n",
    "    else:\n",
    "        count_dict[number] = 1\n",
    "\n",
    "sorted_counts = sorted(count_dict.items(), key=lambda x: x[1], reverse=True)\n",
    "\n",
    "# total = 0\n",
    "# for number, count in sorted_counts:\n",
    "#     print(f\"Number {number}: {count} instance(s)\")"
   ]
  },
  {
   "cell_type": "code",
   "execution_count": null,
   "metadata": {},
   "outputs": [],
   "source": [
    "test_numbers = []\n",
    "total = 0\n",
    "for number, count in sorted_counts:\n",
    "    if (count > 1 and count < 6) and number not in test_numbers:\n",
    "        test_numbers.append(number)\n",
    "        total += count\n",
    "print(f\"Total: {total}\")"
   ]
  },
  {
   "cell_type": "code",
   "execution_count": 9,
   "metadata": {},
   "outputs": [],
   "source": [
    "import copy\n",
    "val_numbers = copy.deepcopy(test_numbers)"
   ]
  },
  {
   "cell_type": "code",
   "execution_count": 10,
   "metadata": {},
   "outputs": [],
   "source": [
    "# val_numbers = []\n",
    "# total = 0\n",
    "# for number, count in sorted_counts:\n",
    "#     if (count > 2 and count < 6) and number not in val_numbers:\n",
    "#         val_numbers.append(number)\n",
    "#         total += count\n",
    "# print(f\"Total: {total}\")"
   ]
  },
  {
   "cell_type": "code",
   "execution_count": 11,
   "metadata": {},
   "outputs": [],
   "source": [
    "test_image_and_paths = []\n",
    "for image_and_path in image_and_paths:\n",
    "    image, lines, file, empty = image_and_path\n",
    "    try:\n",
    "        number = int(file.split('_')[0])\n",
    "    except:\n",
    "        number = -1\n",
    "    if number in test_numbers:\n",
    "        test_image_and_paths.append(image_and_path)"
   ]
  },
  {
   "cell_type": "code",
   "execution_count": 12,
   "metadata": {},
   "outputs": [],
   "source": [
    "val_image_and_paths = []\n",
    "for image_and_path in image_and_paths:\n",
    "    image, lines, file, empty = image_and_path\n",
    "    try:\n",
    "        number = int(file.split('_')[0])\n",
    "    except:\n",
    "        number = -1\n",
    "    if number in val_numbers:\n",
    "        val_image_and_paths.append(image_and_path)"
   ]
  },
  {
   "cell_type": "code",
   "execution_count": 13,
   "metadata": {},
   "outputs": [],
   "source": [
    "train_image_and_paths = []\n",
    "for image_and_path in image_and_paths:\n",
    "    image, lines, file, empty = image_and_path\n",
    "    try:\n",
    "        number = int(file.split('_')[0])\n",
    "    except:\n",
    "        number = -1\n",
    "    if number not in test_numbers and number not in val_numbers:\n",
    "        train_image_and_paths.append(image_and_path)"
   ]
  },
  {
   "cell_type": "code",
   "execution_count": 14,
   "metadata": {},
   "outputs": [],
   "source": [
    "train_rotated = []\n",
    "for crop in train_image_and_paths:\n",
    "    for _ in range(2):\n",
    "        image, lines, _, _ = crop\n",
    "        image, bboxes = augment_image_and_boxes(image, lines, rotate)\n",
    "        train_rotated.append((image, bboxes))"
   ]
  },
  {
   "cell_type": "code",
   "execution_count": 19,
   "metadata": {},
   "outputs": [
    {
     "data": {
      "text/plain": [
       "BoundingBox(x1=50.7134, y1=-82.6563, x2=122.4391, y2=-24.8417, label=None)"
      ]
     },
     "execution_count": 19,
     "metadata": {},
     "output_type": "execute_result"
    }
   ],
   "source": [
    "train_rotated[0][1].bounding_boxes[0]"
   ]
  },
  {
   "cell_type": "code",
   "execution_count": 15,
   "metadata": {},
   "outputs": [],
   "source": [
    "def crop(image, bboxes):\n",
    "    width, height = image.size\n",
    "    empty = False\n",
    "    if len(bboxes) == 0:\n",
    "        empty = True\n",
    "        x_min_valid = 0\n",
    "        x_max_valid = width - crop_size\n",
    "        y_min_valid = 0\n",
    "        y_max_valid = height - crop_size\n",
    "    else:\n",
    "        relative_x = [bbox.x1 for bbox in bboxes.bounding_boxes]\n",
    "        # relative_x.extend([bbox.x2 for bbox in bboxes.bounding_boxes])\n",
    "\n",
    "        relative_y = [bbox.y1 for bbox in bboxes.bounding_boxes]\n",
    "        # relative_y.extend([bbox.y2 for bbox in bboxes.bounding_boxes])\n",
    "        \n",
    "        x_min = min(relative_x)\n",
    "        x_max = max(relative_x)\n",
    "        y_min = min(relative_y)\n",
    "        y_max = max(relative_y)\n",
    "\n",
    "        x_min_valid = max(0, x_max - crop_size)\n",
    "        x_max_valid = min(width - crop_size, x_min)\n",
    "        y_min_valid = max(0, y_max - crop_size)\n",
    "        y_max_valid = min(height - crop_size, y_min)\n",
    "\n",
    "        if x_min_valid >= x_max_valid or y_min_valid >= y_max_valid or x_max_valid - x_min_valid < 0.5 or y_max_valid - y_min_valid < 0.5:\n",
    "            print(\"Invalid crop for image \" + image_path)\n",
    "            return None\n",
    "\n",
    "    crop_x = random.randint(math.ceil(x_min_valid), math.floor(x_max_valid))\n",
    "    crop_y = random.randint(math.ceil(y_min_valid), math.floor(y_max_valid))\n",
    "\n",
    "    crop = image.crop((crop_x, crop_y, crop_x + crop_size, crop_y + crop_size))\n",
    "    \n",
    "    if not empty:\n",
    "\n",
    "        \n",
    "        string = '0 '\n",
    "        for x, y in zip(relative_x, relative_y):\n",
    "            string += str(x / crop_size) + ' ' + str(y / crop_size) + ' '\n",
    "    else:\n",
    "        string = ''\n",
    "    return (crop, string)"
   ]
  },
  {
   "cell_type": "code",
   "execution_count": null,
   "metadata": {},
   "outputs": [],
   "source": [
    "train_cropped = []\n",
    "for i, rotated in enumerate(train_rotated):\n",
    "    for _ in range(10):\n",
    "        image, bboxes = rotated\n",
    "        cropped = crop(image, bboxes)\n",
    "        if cropped is not None:\n",
    "            train_cropped.append(cropped)"
   ]
  },
  {
   "cell_type": "code",
   "execution_count": null,
   "metadata": {},
   "outputs": [],
   "source": [
    "test_cropped = []\n",
    "for i, rotated in enumerate(test_image_and_paths):\n",
    "    image, bboxes, _, _ = rotated\n",
    "    cropped = crop(image, bboxes)\n",
    "    if cropped is not None:\n",
    "        test_cropped.append(cropped)"
   ]
  },
  {
   "cell_type": "code",
   "execution_count": null,
   "metadata": {},
   "outputs": [],
   "source": [
    "val_cropped = []\n",
    "for i, rotated in enumerate(val_image_and_paths):\n",
    "    image, lines, _, _ = rotated\n",
    "    points = []\n",
    "    for line in lines:\n",
    "        points += get_keypoints_from_line(line, image.height, image.width)\n",
    "    cropped = crop(image, KeypointsOnImage(points, shape=image.size))\n",
    "    if cropped is not None:\n",
    "        val_cropped.append(cropped)"
   ]
  },
  {
   "cell_type": "code",
   "execution_count": 19,
   "metadata": {},
   "outputs": [],
   "source": [
    "for i in range(len(train_cropped)):\n",
    "    for _ in range(2):\n",
    "        image, line = train_cropped[i]\n",
    "        try:\n",
    "            image, keypoints = augment_image_and_keypoints(image, line, seq)\n",
    "        except:\n",
    "            continue\n",
    "        line = ''\n",
    "        if len(keypoints.keypoints) > 0:\n",
    "            line = '0 '\n",
    "        for keypoint in keypoints.keypoints:\n",
    "            if keypoint.x < 0 or keypoint.y < 0 or keypoint.x > crop_size or keypoint.y > crop_size:\n",
    "                print(\"Invalid keypoint: \" + str(keypoint.x/crop_size) + \" \" + str(keypoint.y/crop_size))\n",
    "            line += str(keypoint.x/crop_size) + ' ' + str(keypoint.y/crop_size) + ' '\n",
    "        train_cropped[i] = (image, line)"
   ]
  },
  {
   "cell_type": "code",
   "execution_count": null,
   "metadata": {},
   "outputs": [],
   "source": [
    "print(\"Train size: \" + str(len(train_cropped)))\n",
    "print(\"Val size: \" + str(len(val_cropped)))\n",
    "print(\"Test size: \" + str(len(test_cropped)))"
   ]
  },
  {
   "cell_type": "code",
   "execution_count": null,
   "metadata": {},
   "outputs": [],
   "source": [
    "from matplotlib import pyplot as plt\n",
    "for idx, (image, data) in enumerate(train_cropped):\n",
    "    # Convert PIL Image to NumPy array\n",
    "    img_array = np.array(image)\n",
    "    \n",
    "    # Create a Matplotlib figure and axis\n",
    "    plt.figure(figsize=(8, 6))\n",
    "    plt.imshow(img_array)\n",
    "    plt.axis('off')  # Hide axis\n",
    "    \n",
    "    # Parse the data string to extract coordinates\n",
    "    points = data.strip().split()\n",
    "    \n",
    "    # Assuming the first element is a label, skip it\n",
    "    coords = points[1:]\n",
    "    \n",
    "    # Ensure that there is an even number of coordinates\n",
    "    if len(coords) % 2 != 0:\n",
    "        raise ValueError(f\"Odd number of coordinates in data: {data}\")\n",
    "    \n",
    "    # Extract x and y coordinates, scaling them by crop_size\n",
    "    x_coords = []\n",
    "    y_coords = []\n",
    "    for i in range(0, len(coords), 2):\n",
    "        x = float(coords[i]) * crop_size\n",
    "        y = float(coords[i+1]) * crop_size\n",
    "        x_coords.append(x)\n",
    "        y_coords.append(y)\n",
    "    \n",
    "    # Plot the points on the image\n",
    "    plt.scatter(x_coords, y_coords, c=\"red\", s=0.5, marker='o', edgecolors='white')\n",
    "    \n",
    "    # Optionally, add titles or annotations\n",
    "    plt.title(f'Image {idx+1} with Points')\n",
    "    \n",
    "    plt.show()"
   ]
  },
  {
   "cell_type": "code",
   "execution_count": 22,
   "metadata": {},
   "outputs": [],
   "source": [
    "folder = \"train\"\n",
    "os.makedirs(os.path.join(destination, folder, \"images\"), exist_ok=True)\n",
    "os.makedirs(os.path.join(destination, folder, \"labels\"), exist_ok=True)\n",
    "for image, data in train_cropped:\n",
    "    name = str(random.randint(0, 1000000))\n",
    "    image.save(os.path.join(destination, folder, \"images\", name + \".jpg\"))\n",
    "    with open(os.path.join(destination, folder, \"labels\", name + \".txt\"), \"w\") as f:\n",
    "        f.write(data)"
   ]
  },
  {
   "cell_type": "code",
   "execution_count": 23,
   "metadata": {},
   "outputs": [],
   "source": [
    "folder = \"test\"\n",
    "os.makedirs(os.path.join(destination, folder, \"images\"), exist_ok=True)\n",
    "os.makedirs(os.path.join(destination, folder, \"labels\"), exist_ok=True)\n",
    "for image, data in test_cropped:\n",
    "    name = str(random.randint(0, 1000000))\n",
    "    image.save(os.path.join(destination, folder, \"images\", name + \".jpg\"))\n",
    "    with open(os.path.join(destination, folder, \"labels\", name + \".txt\"), \"w\") as f:\n",
    "        f.write(data)"
   ]
  },
  {
   "cell_type": "code",
   "execution_count": 24,
   "metadata": {},
   "outputs": [],
   "source": [
    "folder = \"valid\"\n",
    "os.makedirs(os.path.join(destination, folder, \"images\"), exist_ok=True)\n",
    "os.makedirs(os.path.join(destination, folder, \"labels\"), exist_ok=True)\n",
    "for image, data in val_cropped:\n",
    "    name = str(random.randint(0, 1000000))\n",
    "    image.save(os.path.join(destination, folder, \"images\", name + \".jpg\"))\n",
    "    with open(os.path.join(destination, folder, \"labels\", name + \".txt\"), \"w\") as f:\n",
    "        f.write(data)"
   ]
  }
 ],
 "metadata": {
  "kernelspec": {
   "display_name": "Python 3 (ipykernel)",
   "language": "python",
   "name": "python3"
  },
  "language_info": {
   "codemirror_mode": {
    "name": "ipython",
    "version": 3
   },
   "file_extension": ".py",
   "mimetype": "text/x-python",
   "name": "python",
   "nbconvert_exporter": "python",
   "pygments_lexer": "ipython3",
   "version": "3.9.7"
  }
 },
 "nbformat": 4,
 "nbformat_minor": 2
}
