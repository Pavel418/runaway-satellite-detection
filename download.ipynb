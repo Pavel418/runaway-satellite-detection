{
 "cells": [
  {
   "cell_type": "code",
   "execution_count": 1,
   "metadata": {},
   "outputs": [
    {
     "name": "stderr",
     "output_type": "stream",
     "text": [
      "c:\\Users\\Admin\\Documents\\GitHub\\runaway-satellite-detection\\.venv\\Lib\\site-packages\\tqdm\\auto.py:21: TqdmWarning: IProgress not found. Please update jupyter and ipywidgets. See https://ipywidgets.readthedocs.io/en/stable/user_install.html\n",
      "  from .autonotebook import tqdm as notebook_tqdm\n"
     ]
    }
   ],
   "source": [
    "import datetime\n",
    "import os\n",
    "import tarfile\n",
    "import matplotlib.pyplot as plt\n",
    "import numpy as np\n",
    "import shutil\n",
    "from shapely import Polygon\n",
    "\n",
    "from sentinelhub import (\n",
    "    CRS,\n",
    "    BBox,\n",
    "    DataCollection,\n",
    "    DownloadRequest,\n",
    "    MimeType,\n",
    "    MosaickingOrder,\n",
    "    SentinelHubDownloadClient,\n",
    "    SentinelHubRequest,\n",
    "    bbox_to_dimensions,\n",
    "    SHConfig,\n",
    ")\n",
    "import geopandas as gpd\n",
    "\n",
    "# The following is not a package. It is a file utils.py which should be in the same folder as this notebook.\n",
    "from utils import plot_image"
   ]
  },
  {
   "cell_type": "code",
   "execution_count": 2,
   "metadata": {},
   "outputs": [],
   "source": [
    "jsons = [{\"type\":\"Polygon\",\"coordinates\":[[[45.098534,41.234446],[45.098534,41.335318],[45.351906,41.335318],[45.351906,41.234446],[45.098534,41.234446]]]},\n",
    "         {\"type\":\"Polygon\",\"coordinates\":[[[45.346069,41.176328],[45.346069,41.263356],[45.564423,41.263356],[45.564423,41.176328],[45.346069,41.176328]]]},\n",
    "         {\"type\":\"Polygon\",\"coordinates\":[[[45.534554,41.065633],[45.534554,41.184597],[45.806122,41.184597],[45.806122,41.065633],[45.534554,41.065633]]]},\n",
    "         ]\n",
    "polygons = [Polygon(json['coordinates'][0]) for json in jsons]"
   ]
  },
  {
   "cell_type": "code",
   "execution_count": 3,
   "metadata": {},
   "outputs": [],
   "source": [
    "start = datetime.datetime(2023, 3, 1)\n",
    "end = datetime.datetime(2023, 6, 30)\n",
    "n_chunks = 21\n",
    "tdelta = (end - start) / n_chunks\n",
    "edges = [(start + i * tdelta).date().isoformat() for i in range(n_chunks)]\n",
    "slots = [(edges[i], edges[i + 1]) for i in range(len(edges) - 1)]"
   ]
  },
  {
   "cell_type": "code",
   "execution_count": 4,
   "metadata": {},
   "outputs": [],
   "source": [
    "resolution = 10\n",
    "config = SHConfig()"
   ]
  },
  {
   "cell_type": "code",
   "execution_count": 5,
   "metadata": {},
   "outputs": [],
   "source": [
    "def get_image(path, bbox, time):\n",
    "    size = bbox_to_dimensions(bbox, resolution=resolution)\n",
    "    evalscript_true_color = \"\"\"\n",
    "        //VERSION=3\n",
    "\n",
    "        function setup() {\n",
    "            return {\n",
    "                input: [{\n",
    "                    bands: [\"B02\", \"B03\", \"B04\"]\n",
    "                }],\n",
    "                output: [\n",
    "                {\n",
    "                    id: \"image\",\n",
    "                    bands: 3,\n",
    "                    sampleType: SampleType.AUTO,\n",
    "                }]\n",
    "            };\n",
    "        }\n",
    "\n",
    "        function evaluatePixel(sample) {\n",
    "            return {\n",
    "                image: [4*sample.B04, 4*sample.B03, 4*sample.B02],\n",
    "            };\n",
    "        }\n",
    "    \"\"\"\n",
    "\n",
    "    return SentinelHubRequest(\n",
    "        data_folder = os.path.join(path, time[0] + '_' + time[1]),\n",
    "        evalscript=evalscript_true_color,\n",
    "        input_data=[\n",
    "            SentinelHubRequest.input_data(\n",
    "                data_collection=DataCollection.SENTINEL2_L1C,\n",
    "                time_interval=time,\n",
    "                mosaicking_order=MosaickingOrder.LEAST_CC,\n",
    "            )\n",
    "        ],\n",
    "        responses=[\n",
    "                   SentinelHubRequest.output_response(\"image\", MimeType.TIFF)],\n",
    "        bbox=bbox,\n",
    "        size=size,\n",
    "        config=config,\n",
    "    )"
   ]
  },
  {
   "cell_type": "code",
   "execution_count": 6,
   "metadata": {},
   "outputs": [],
   "source": [
    "def extract_and_remove_tar_files(parent_directory):\n",
    "    # Iterate through all directories in the specified parent directory\n",
    "    for root, dirs, files in os.walk(parent_directory):\n",
    "        for dir_name in dirs:\n",
    "            dir_path = os.path.join(root, dir_name)\n",
    "\n",
    "            # Get the list of files and directories inside the subdirectory\n",
    "            sub_items = os.listdir(dir_path)\n",
    "            \n",
    "            inner_dir = os.path.join(dir_path, sub_items[0])\n",
    "            \n",
    "            if os.path.isdir(inner_dir):\n",
    "                tar_file = os.path.join(inner_dir, \"response.tar\")\n",
    "                \n",
    "                if os.path.isfile(tar_file):\n",
    "                    try:\n",
    "                        with tarfile.open(tar_file, \"r\") as tar:\n",
    "                            tar.extractall(path=dir_path)\n",
    "\n",
    "                        os.remove(tar_file)\n",
    "                        shutil.rmtree(inner_dir)\n",
    "                    except Exception as e:\n",
    "                        print(f\"Error processing {tar_file}: {e}\")"
   ]
  },
  {
   "cell_type": "code",
   "execution_count": 7,
   "metadata": {},
   "outputs": [
    {
     "name": "stderr",
     "output_type": "stream",
     "text": [
      "100%|██████████| 20/20 [00:19<00:00,  1.01it/s]\n",
      "100%|██████████| 20/20 [00:13<00:00,  1.52it/s]\n",
      "100%|██████████| 20/20 [00:21<00:00,  1.10s/it]\n"
     ]
    }
   ],
   "source": [
    "for polygon in polygons:\n",
    "    bbox = BBox(polygon.bounds, CRS('EPSG:4326'))\n",
    "\n",
    "    path = os.path.join('./azercosmos', polygon.wkt)\n",
    "    os.makedirs(path, exist_ok=True)\n",
    "\n",
    "    list_of_requests = []\n",
    "    for slot in slots:\n",
    "        list_of_requests.append(get_image(path, bbox, slot))\n",
    "    list_of_requests = [request.download_list[0] for request in list_of_requests]\n",
    "\n",
    "    data = SentinelHubDownloadClient(config=config).download(list_of_requests, max_threads=20, show_progress=True)\n",
    "\n",
    "    extract_and_remove_tar_files(path)"
   ]
  },
  {
   "cell_type": "code",
   "execution_count": 9,
   "metadata": {},
   "outputs": [],
   "source": [
    "for polygon in os.listdir('./azercosmos'):\n",
    "    path = os.path.join('./azercosmos', polygon)\n",
    "    for date in os.listdir(path):\n",
    "        date_path = os.path.join(path, date)\n",
    "        for subdirectory in os.listdir(date_path):\n",
    "            subdirectory_path = os.path.join(date_path, subdirectory)\n",
    "            for file in os.listdir(subdirectory_path):\n",
    "                file_path = os.path.join(subdirectory_path, file)\n",
    "                shutil.move(file_path, date_path)\n",
    "            os.rmdir(subdirectory_path)\n",
    "                "
   ]
  }
 ],
 "metadata": {
  "kernelspec": {
   "display_name": "Python 3 (ipykernel)",
   "language": "python",
   "name": "python3"
  },
  "language_info": {
   "codemirror_mode": {
    "name": "ipython",
    "version": 3
   },
   "file_extension": ".py",
   "mimetype": "text/x-python",
   "name": "python",
   "nbconvert_exporter": "python",
   "pygments_lexer": "ipython3",
   "version": "3.11.5"
  }
 },
 "nbformat": 4,
 "nbformat_minor": 2
}
