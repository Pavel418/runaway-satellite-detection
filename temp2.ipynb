{
 "cells": [
  {
   "cell_type": "code",
   "execution_count": 1,
   "metadata": {},
   "outputs": [
    {
     "name": "stderr",
     "output_type": "stream",
     "text": [
      "c:\\Users\\Admin\\Documents\\GitHub\\runaway-satellite-detection\\.venv\\Lib\\site-packages\\tqdm\\auto.py:21: TqdmWarning: IProgress not found. Please update jupyter and ipywidgets. See https://ipywidgets.readthedocs.io/en/stable/user_install.html\n",
      "  from .autonotebook import tqdm as notebook_tqdm\n"
     ]
    }
   ],
   "source": [
    "import datetime\n",
    "import os\n",
    "\n",
    "import matplotlib.pyplot as plt\n",
    "import numpy as np\n",
    "\n",
    "from sentinelhub import (\n",
    "    CRS,\n",
    "    BBox,\n",
    "    DataCollection,\n",
    "    DownloadRequest,\n",
    "    MimeType,\n",
    "    MosaickingOrder,\n",
    "    SentinelHubDownloadClient,\n",
    "    SentinelHubRequest,\n",
    "    bbox_to_dimensions,\n",
    ")\n",
    "import geopandas as gpd\n",
    "\n",
    "# The following is not a package. It is a file utils.py which should be in the same folder as this notebook.\n",
    "from utils import plot_image"
   ]
  },
  {
   "cell_type": "code",
   "execution_count": 2,
   "metadata": {},
   "outputs": [],
   "source": [
    "resolution = 10"
   ]
  },
  {
   "cell_type": "code",
   "execution_count": 3,
   "metadata": {},
   "outputs": [],
   "source": [
    "gdf = gpd.read_file('train/pac_2024_training.shp')"
   ]
  },
  {
   "cell_type": "code",
   "execution_count": 4,
   "metadata": {},
   "outputs": [],
   "source": [
    "def get_bbox(coords):\n",
    "    coords = np.array(coords)\n",
    "    x_coords, y_coords = coords[:, 0], coords[:, 1]\n",
    "\n",
    "    # Calculate the center of the polygon\n",
    "    center_x, center_y = np.mean(x_coords), np.mean(y_coords)\n",
    "\n",
    "    # Calculate the bounding box\n",
    "    min_x, max_x = np.min(x_coords), np.max(x_coords)\n",
    "    min_y, max_y = np.min(y_coords), np.max(y_coords)\n",
    "\n",
    "    # Calculate the current width and height of the bounding box\n",
    "    width, height = max_x - min_x, max_y - min_y\n",
    "\n",
    "    # Expand the square 5 times\n",
    "    half_width, half_height = 2.5 * width, 2.5 * height\n",
    "\n",
    "    # Calculate the top-left and bottom-right points\n",
    "    top_left = (center_x - half_width, center_y + half_height)\n",
    "    bottom_right = (center_x + half_width, center_y - half_height)\n",
    "\n",
    "    return BBox(bbox=[top_left[0], top_left[1], bottom_right[0], bottom_right[1]], crs=CRS.WGS84)"
   ]
  },
  {
   "cell_type": "code",
   "execution_count": 5,
   "metadata": {},
   "outputs": [
    {
     "name": "stdout",
     "output_type": "stream",
     "text": [
      "(474, 90)\n"
     ]
    }
   ],
   "source": [
    "for idx, row in gdf.iterrows():\n",
    "    coords = row['geometry'].coords\n",
    "    \n",
    "    bbox = get_bbox(coords)\n",
    "    size = bbox_to_dimensions(bbox, resolution=resolution)\n",
    "    break"
   ]
  }
 ],
 "metadata": {
  "kernelspec": {
   "display_name": ".venv",
   "language": "python",
   "name": "python3"
  },
  "language_info": {
   "codemirror_mode": {
    "name": "ipython",
    "version": 3
   },
   "file_extension": ".py",
   "mimetype": "text/x-python",
   "name": "python",
   "nbconvert_exporter": "python",
   "pygments_lexer": "ipython3",
   "version": "3.11.5"
  }
 },
 "nbformat": 4,
 "nbformat_minor": 2
}
