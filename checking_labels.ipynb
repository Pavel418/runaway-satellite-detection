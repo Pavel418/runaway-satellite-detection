{
 "cells": [
  {
   "cell_type": "code",
   "execution_count": 1,
   "metadata": {},
   "outputs": [],
   "source": [
    "import os\n",
    "import shutil\n",
    "import geopandas as gpd\n",
    "import rasterio\n",
    "from rasterio.features import geometry_mask\n",
    "from shapely.geometry import box\n",
    "from PIL import Image"
   ]
  },
  {
   "cell_type": "code",
   "execution_count": 2,
   "metadata": {},
   "outputs": [],
   "source": [
    "for part in os.listdir(\"./datasets\"):\n",
    "    part_path = os.path.join(\"./datasets\", part)\n",
    "    for date in os.listdir(part_path):\n",
    "        date_path = os.path.join(part_path, date)\n",
    "        for file in os.listdir(date_path):\n",
    "            if file.endswith(\".tif\"):\n",
    "                file_path = os.path.join(date_path, file)\n",
    "                tiff_image = Image.open(file_path)\n",
    "                tiff_image.save(f\"./for_label/{os.path.splitext(file)[0]}.png\", 'PNG')"
   ]
  },
  {
   "cell_type": "code",
   "execution_count": 2,
   "metadata": {},
   "outputs": [],
   "source": [
    "source_paths = [\"./perfect_data\", \"./normal_data\"]\n",
    "target_path = \"./dataset\""
   ]
  },
  {
   "cell_type": "code",
   "execution_count": 3,
   "metadata": {},
   "outputs": [],
   "source": [
    "for source_path in source_paths:\n",
    "    for road_folder in os.listdir(source_path):\n",
    "        road_folder_path = os.path.join(source_path, road_folder)\n",
    "        if os.path.isdir(road_folder_path):\n",
    "            for date in os.listdir(road_folder_path):\n",
    "                target_date_path = os.path.join(target_path, date)\n",
    "                if os.path.exists(target_date_path) == False:\n",
    "                    os.makedirs(target_date_path)\n",
    "                date_path = os.path.join(road_folder_path, date)\n",
    "                if os.path.isdir(date_path):\n",
    "                    for file in os.listdir(date_path):\n",
    "                        file_path = os.path.join(date_path, file)\n",
    "                        if file.endswith(\".tif\"):\n",
    "                            new_name = os.path.join(target_date_path, road_folder + \"_\" + date + \".tif\")\n",
    "                            shutil.copy(file_path, new_name)"
   ]
  },
  {
   "cell_type": "code",
   "execution_count": 3,
   "metadata": {},
   "outputs": [],
   "source": [
    "shapefile_path = \"./train/pac_2024_training.shp\"\n",
    "shapes = gpd.read_file(shapefile_path)"
   ]
  },
  {
   "cell_type": "code",
   "execution_count": 7,
   "metadata": {},
   "outputs": [],
   "source": [
    "target_path = \"./datasets/dataset_part_0\""
   ]
  },
  {
   "cell_type": "code",
   "execution_count": 10,
   "metadata": {},
   "outputs": [],
   "source": [
    "# for date in os.listdir(target_path):\n",
    "date = \"2016-07-16_2016-08-24\"\n",
    "date_path = os.path.join(target_path, date)\n",
    "raster_files = [os.path.join(date_path, f) for f in os.listdir(date_path) if f.endswith('.tif')]\n",
    "\n",
    "raster_bounds = []\n",
    "\n",
    "for raster_file in raster_files:\n",
    "    with rasterio.open(raster_file) as src:\n",
    "        bounds = src.bounds \n",
    "        raster_bounds.append(box(bounds.left, bounds.bottom, bounds.right, bounds.top))\n",
    "\n",
    "raster_geometries = gpd.GeoSeries(raster_bounds)\n",
    "\n",
    "filtered_shapes = shapes[shapes.geometry.apply(lambda x: raster_geometries.intersects(x).any())]\n",
    "filtered_shapefile_path = os.path.join(date_path, date + \".shp\")\n",
    "filtered_shapes.to_file(filtered_shapefile_path)"
   ]
  },
  {
   "cell_type": "code",
   "execution_count": 5,
   "metadata": {},
   "outputs": [],
   "source": [
    "for file in os.listdir(target_path):\n",
    "    file_path = os.path.join(target_path, file)\n",
    "    if file.endswith(\".tif.aux.xml\"):\n",
    "        if os.path.exists(file_path):\n",
    "            os.remove(file_path)"
   ]
  },
  {
   "cell_type": "code",
   "execution_count": 9,
   "metadata": {},
   "outputs": [
    {
     "name": "stdout",
     "output_type": "stream",
     "text": [
      "[320, 329, 329, 329, 329, 329, 332, 332, 335, 335, 335, 335, 336, 336, 336, 336, 336, 336, 336, 340, 346, 348, 348, 348, 348, 348, 348, 348, 348, 348, 348, 348, 348, 348, 357, 357, 366, 366, 366, 366, 376, 376, 376, 376, 376, 381, 381, 382, 382, 382, 382, 382, 384, 384, 388, 388, 388, 388, 389, 389, 389, 389, 389, 390, 394, 394, 394, 401, 401, 401, 401, 403, 407, 407, 407, 407, 407, 410, 410, 410, 416, 417, 417, 419, 419, 420, 420, 420, 422, 422, 424, 433, 433, 433, 433, 433, 433, 436, 436, 437, 437, 437, 437, 439, 439, 448, 448, 448, 448, 448, 452, 452, 459, 459, 459, 459, 459, 459, 459, 463, 463, 463, 463, 463, 463, 463, 469, 469, 469, 469, 469, 474, 474, 474, 474, 474, 480, 480, 480, 480, 480, 480, 480, 481, 481, 481, 481, 484, 486, 486, 486, 486, 486, 486, 486, 493, 493, 493, 493, 504, 504, 504, 504, 504, 510, 510, 510, 510, 510, 510, 510, 516, 516, 516, 516, 533, 533, 533, 534, 534, 535, 540, 540, 540, 540, 544, 544, 552, 552, 552, 553, 553, 553, 569, 569, 569, 569, 569, 583, 583, 628, 628, 628, 628, 637, 637, 647, 647, 650, 662, 662, 663, 663, 672, 672, 672, 676, 676, 676, 676, 676, 676, 683, 683, 683, 689, 706, 706, 731, 742, 742, 742, 742, 783, 783, 783, 808, 808, 808, 808, 810, 810, 810, 810, 810, 810, 810, 838, 843, 843, 843, 843, 843, 844, 844, 847, 847, 847, 847, 847, 847, 847, 847, 919, 919, 919, 919, 925, 963, 984, 1035, 1075, 1085, 1097, 1097, 1097, 1097, 1486, 1486, 1486, 1812, 1812, 1812, 1812]\n",
      "[320, 331, 331, 331, 331, 331, 333, 333, 338, 338, 338, 338, 338, 338, 338, 338, 338, 338, 338, 348, 350, 350, 350, 350, 350, 352, 356, 356, 361, 361, 361, 361, 361, 361, 361, 361, 367, 367, 367, 370, 380, 380, 380, 380, 380, 383, 383, 383, 383, 383, 384, 384, 385, 385, 390, 390, 390, 390, 391, 391, 391, 391, 391, 392, 396, 396, 396, 404, 404, 404, 404, 404, 411, 411, 411, 411, 411, 412, 412, 412, 417, 421, 421, 422, 422, 423, 423, 427, 434, 434, 434, 436, 436, 436, 436, 437, 437, 437, 437, 437, 437, 441, 441, 441, 441, 450, 450, 450, 450, 450, 457, 457, 460, 460, 460, 460, 460, 460, 460, 463, 463, 463, 463, 463, 463, 463, 470, 470, 470, 470, 470, 474, 474, 474, 474, 474, 481, 481, 481, 481, 484, 486, 486, 486, 486, 486, 486, 486, 495, 495, 495, 495, 498, 498, 498, 498, 498, 498, 498, 504, 504, 504, 504, 504, 514, 514, 514, 514, 514, 514, 514, 516, 516, 516, 516, 534, 534, 534, 536, 536, 540, 543, 543, 543, 543, 550, 550, 553, 553, 553, 556, 556, 556, 574, 574, 574, 574, 574, 582, 582, 633, 633, 633, 633, 652, 652, 653, 653, 655, 668, 668, 672, 672, 672, 675, 675, 675, 675, 675, 675, 681, 681, 682, 682, 682, 689, 699, 699, 732, 744, 744, 744, 744, 784, 784, 784, 808, 808, 808, 808, 815, 815, 815, 815, 815, 815, 815, 837, 842, 842, 842, 842, 842, 843, 843, 845, 845, 845, 845, 845, 845, 845, 845, 918, 918, 918, 918, 954, 964, 986, 1035, 1077, 1092, 1097, 1097, 1097, 1097, 1489, 1489, 1489, 1865, 1865, 1865, 1865]\n"
     ]
    }
   ],
   "source": [
    "smallest_width = []\n",
    "smallest_height = []\n",
    "for road_folder in os.listdir(source_path):\n",
    "    road_folder_path = os.path.join(source_path, road_folder)\n",
    "    if os.path.isdir(road_folder_path):\n",
    "        for date in os.listdir(road_folder_path):\n",
    "            date_path = os.path.join(road_folder_path, date)\n",
    "            if os.path.isdir(date_path):\n",
    "                for file in os.listdir(date_path):\n",
    "                    file_path = os.path.join(date_path, file)\n",
    "                    if file.endswith(\".tif\"):\n",
    "                        with rasterio.open(file_path) as dataset:\n",
    "                            pixel_width = dataset.width\n",
    "                            pixel_height = dataset.height\n",
    "                            smallest_width.append(pixel_width)\n",
    "                            smallest_height.append(pixel_height)\n",
    "\n",
    "sorted_width = sorted(smallest_width)\n",
    "sorted_height = sorted(smallest_height)\n",
    "\n",
    "# print top 20 smallest\n",
    "print(sorted_width[20:])\n",
    "print(sorted_height[20:])\n"
   ]
  },
  {
   "cell_type": "code",
   "execution_count": 6,
   "metadata": {},
   "outputs": [
    {
     "name": "stdout",
     "output_type": "stream",
     "text": [
      "625\n"
     ]
    }
   ],
   "source": [
    "tif_count = 0\n",
    "for date in os.listdir(target_path):\n",
    "    date_path = os.path.join(target_path, date)\n",
    "    for root, dirs, files in os.walk(date_path):\n",
    "        for file in files:\n",
    "            if file.endswith(\".tif\"):\n",
    "                tif_count += 1\n",
    "\n",
    "print(tif_count)"
   ]
  },
  {
   "cell_type": "code",
   "execution_count": 7,
   "metadata": {},
   "outputs": [
    {
     "name": "stdout",
     "output_type": "stream",
     "text": [
      "42\n",
      "42\n",
      "49\n",
      "45\n",
      "49\n",
      "49\n",
      "43\n",
      "45\n",
      "52\n",
      "46\n",
      "56\n",
      "45\n",
      "43\n"
     ]
    }
   ],
   "source": [
    "parts = 15\n",
    "\n",
    "for i in range(parts):\n",
    "    part_path = \"./datasets/dataset_part_\" + str(i)\n",
    "    if os.path.exists(part_path) == False:\n",
    "        os.makedirs(part_path)\n",
    "\n",
    "to_moves = []\n",
    "current_count = 0\n",
    "current_part = 0\n",
    "for date in os.listdir(target_path):\n",
    "    date_path = os.path.join(target_path, date)\n",
    "    if os.path.exists(date_path) == False:\n",
    "        continue\n",
    "    to_moves.append(date_path)\n",
    "    for root, dirs, files in os.walk(date_path):\n",
    "        for file in files:\n",
    "            if file.endswith(\".tif\"):\n",
    "                current_count += 1\n",
    "    if (current_count >= tif_count/parts):\n",
    "        print(current_count)\n",
    "\n",
    "        for to_move in to_moves:\n",
    "            new_path = os.path.join(\"./datasets\", \"dataset_part_\" + str(current_part), os.path.basename(to_move))\n",
    "            shutil.move(to_move, new_path)\n",
    "\n",
    "        to_moves = []\n",
    "        current_count = 0\n",
    "        current_part += 1"
   ]
  },
  {
   "cell_type": "code",
   "execution_count": 14,
   "metadata": {},
   "outputs": [
    {
     "name": "stdout",
     "output_type": "stream",
     "text": [
      "364\n"
     ]
    }
   ],
   "source": [
    "tif_count = 0\n",
    "for i in range(8):\n",
    "    part_path = os.path.join(\"./datasets\", \"dataset_part_\" + str(i))\n",
    "    for date in os.listdir(part_path):\n",
    "        date_path = os.path.join(part_path, date)\n",
    "        for root, dirs, files in os.walk(date_path):\n",
    "            for file in files:\n",
    "                if file.endswith(\".tif\"):\n",
    "                    tif_count += 1"
   ]
  }
 ],
 "metadata": {
  "kernelspec": {
   "display_name": "Python 3 (ipykernel)",
   "language": "python",
   "name": "python3"
  }
 },
 "nbformat": 4,
 "nbformat_minor": 2
}
