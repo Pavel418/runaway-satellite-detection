{
 "cells": [
  {
   "cell_type": "code",
   "execution_count": 1,
   "metadata": {},
   "outputs": [],
   "source": [
    "import os\n",
    "import shutil\n",
    "import geopandas as gpd\n",
    "import rasterio\n",
    "from rasterio.features import geometry_mask\n",
    "from shapely.geometry import box"
   ]
  },
  {
   "cell_type": "code",
   "execution_count": 2,
   "metadata": {},
   "outputs": [],
   "source": [
    "source_path = \"./perfect_data\"\n",
    "target_path = \"./dataset\""
   ]
  },
  {
   "cell_type": "code",
   "execution_count": 3,
   "metadata": {},
   "outputs": [],
   "source": [
    "for road_folder in os.listdir(source_path):\n",
    "    road_folder_path = os.path.join(source_path, road_folder)\n",
    "    if os.path.isdir(road_folder_path):\n",
    "        for date in os.listdir(road_folder_path):\n",
    "            target_date_path = os.path.join(target_path, date)\n",
    "            if os.path.exists(target_date_path) == False:\n",
    "                os.makedirs(target_date_path)\n",
    "            date_path = os.path.join(road_folder_path, date)\n",
    "            if os.path.isdir(date_path):\n",
    "                for file in os.listdir(date_path):\n",
    "                    file_path = os.path.join(date_path, file)\n",
    "                    if file.endswith(\".tif\"):\n",
    "                        new_name = os.path.join(target_date_path, road_folder + \"_\" + date + \".tif\")\n",
    "                        shutil.copy(file_path, new_name)"
   ]
  },
  {
   "cell_type": "code",
   "execution_count": 9,
   "metadata": {},
   "outputs": [],
   "source": [
    "shapefile_path = \"./train/pac_2024_training.shp\"\n",
    "shapes = gpd.read_file(shapefile_path)"
   ]
  },
  {
   "cell_type": "code",
   "execution_count": 10,
   "metadata": {},
   "outputs": [],
   "source": [
    "for date in os.listdir(target_path):\n",
    "    date_path = os.path.join(target_path, date)\n",
    "    raster_files = [os.path.join(date_path, f) for f in os.listdir(date_path) if f.endswith('.tif')]\n",
    "\n",
    "    raster_bounds = []\n",
    "\n",
    "    for raster_file in raster_files:\n",
    "        with rasterio.open(raster_file) as src:\n",
    "            bounds = src.bounds \n",
    "            raster_bounds.append(box(bounds.left, bounds.bottom, bounds.right, bounds.top))\n",
    "\n",
    "    raster_geometries = gpd.GeoSeries(raster_bounds)\n",
    "\n",
    "    filtered_shapes = shapes[shapes.geometry.apply(lambda x: raster_geometries.intersects(x).any())]\n",
    "    filtered_shapefile_path = os.path.join(\"./shapefiles\", date + \".shp\")\n",
    "    filtered_shapes.to_file(filtered_shapefile_path)"
   ]
  },
  {
   "cell_type": "code",
   "execution_count": 5,
   "metadata": {},
   "outputs": [],
   "source": [
    "for file in os.listdir(target_path):\n",
    "    file_path = os.path.join(target_path, file)\n",
    "    if file.endswith(\".tif.aux.xml\"):\n",
    "        if os.path.exists(file_path):\n",
    "            os.remove(file_path)"
   ]
  },
  {
   "cell_type": "code",
   "execution_count": 6,
   "metadata": {},
   "outputs": [
    {
     "name": "stdout",
     "output_type": "stream",
     "text": [
      "[262, 262, 262, 262, 262, 262, 262, 262, 262, 262, 282, 282, 282, 282, 282, 289, 320, 320, 320, 320]\n",
      "[263, 263, 263, 263, 263, 263, 263, 263, 263, 263, 284, 284, 284, 284, 284, 289, 320, 320, 320, 320]\n"
     ]
    }
   ],
   "source": [
    "smallest_width = []\n",
    "smallest_height = []\n",
    "for road_folder in os.listdir(source_path):\n",
    "    road_folder_path = os.path.join(source_path, road_folder)\n",
    "    if os.path.isdir(road_folder_path):\n",
    "        for date in os.listdir(road_folder_path):\n",
    "            date_path = os.path.join(road_folder_path, date)\n",
    "            if os.path.isdir(date_path):\n",
    "                for file in os.listdir(date_path):\n",
    "                    file_path = os.path.join(date_path, file)\n",
    "                    if file.endswith(\".tif\"):\n",
    "                        with rasterio.open(file_path) as dataset:\n",
    "                            pixel_width = dataset.width\n",
    "                            pixel_height = dataset.height\n",
    "                            smallest_width.append(pixel_width)\n",
    "                            smallest_height.append(pixel_height)\n",
    "\n",
    "sorted_width = sorted(smallest_width)\n",
    "sorted_height = sorted(smallest_height)\n",
    "\n",
    "# print top 20 smallest\n",
    "print(sorted_width[:20])\n",
    "print(sorted_height[:20])\n"
   ]
  }
 ],
 "metadata": {
  "kernelspec": {
   "display_name": ".venv",
   "language": "python",
   "name": "python3"
  },
  "language_info": {
   "codemirror_mode": {
    "name": "ipython",
    "version": 3
   },
   "file_extension": ".py",
   "mimetype": "text/x-python",
   "name": "python",
   "nbconvert_exporter": "python",
   "pygments_lexer": "ipython3",
   "version": "3.11.5"
  }
 },
 "nbformat": 4,
 "nbformat_minor": 2
}
